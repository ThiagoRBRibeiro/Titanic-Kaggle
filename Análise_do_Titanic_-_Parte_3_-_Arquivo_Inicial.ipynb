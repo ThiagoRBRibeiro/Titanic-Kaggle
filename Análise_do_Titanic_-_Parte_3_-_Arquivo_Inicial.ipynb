{
 "cells": [
  {
   "cell_type": "markdown",
   "id": "321aee4f",
   "metadata": {},
   "source": [
    "# Titanic - Machine Learning from Disaster\n",
    "\n",
    "<img src=\"https://storage.googleapis.com/kaggle-competitions/kaggle/3136/logos/header.png\" width=900>\n",
    "\n",
    "- Vamos utilizar os [dados disponíveis no Kaggle](https://www.kaggle.com/competitions/titanic)\n",
    "    - É um dataset de **competição**\n",
    "    - O resultado é avaliado através da **acurácia**:\n",
    "        - _\"Sua pontuação é a porcentagem de passageiros que você prevê corretamente. Isso é conhecido como acurácia.\"_"
   ]
  },
  {
   "cell_type": "markdown",
   "id": "e860c1c7",
   "metadata": {},
   "source": [
    "### Importando novamente as bases e fazendo o tratamento dos dados\n",
    "- Vamos apenas replicar o que fizemos no **[primeiro](https://github.com/lucaslealx/Titanic/blob/main/Parte1.ipynb)** e no **[segundo](https://github.com/lucaslealx/Titanic/blob/main/Parte2.ipynb)** arquivo dessa análise (para visualizar os arquivos completos, visite esse link)"
   ]
  },
  {
   "cell_type": "code",
   "execution_count": 196,
   "id": "d3c866a6",
   "metadata": {},
   "outputs": [],
   "source": [
    "# Importando o pandas\n",
    "import pandas as pd"
   ]
  },
  {
   "cell_type": "code",
   "execution_count": 197,
   "id": "0c7a7e15",
   "metadata": {},
   "outputs": [
    {
     "data": {
      "text/html": [
       "<div>\n",
       "<style scoped>\n",
       "    .dataframe tbody tr th:only-of-type {\n",
       "        vertical-align: middle;\n",
       "    }\n",
       "\n",
       "    .dataframe tbody tr th {\n",
       "        vertical-align: top;\n",
       "    }\n",
       "\n",
       "    .dataframe thead th {\n",
       "        text-align: right;\n",
       "    }\n",
       "</style>\n",
       "<table border=\"1\" class=\"dataframe\">\n",
       "  <thead>\n",
       "    <tr style=\"text-align: right;\">\n",
       "      <th></th>\n",
       "      <th>PassengerId</th>\n",
       "      <th>Survived</th>\n",
       "      <th>Pclass</th>\n",
       "      <th>Name</th>\n",
       "      <th>Sex</th>\n",
       "      <th>Age</th>\n",
       "      <th>SibSp</th>\n",
       "      <th>Parch</th>\n",
       "      <th>Ticket</th>\n",
       "      <th>Fare</th>\n",
       "      <th>Cabin</th>\n",
       "      <th>Embarked</th>\n",
       "    </tr>\n",
       "  </thead>\n",
       "  <tbody>\n",
       "    <tr>\n",
       "      <th>0</th>\n",
       "      <td>1</td>\n",
       "      <td>0</td>\n",
       "      <td>3</td>\n",
       "      <td>Braund, Mr. Owen Harris</td>\n",
       "      <td>male</td>\n",
       "      <td>22.0</td>\n",
       "      <td>1</td>\n",
       "      <td>0</td>\n",
       "      <td>A/5 21171</td>\n",
       "      <td>7.2500</td>\n",
       "      <td>NaN</td>\n",
       "      <td>S</td>\n",
       "    </tr>\n",
       "    <tr>\n",
       "      <th>1</th>\n",
       "      <td>2</td>\n",
       "      <td>1</td>\n",
       "      <td>1</td>\n",
       "      <td>Cumings, Mrs. John Bradley (Florence Briggs Th...</td>\n",
       "      <td>female</td>\n",
       "      <td>38.0</td>\n",
       "      <td>1</td>\n",
       "      <td>0</td>\n",
       "      <td>PC 17599</td>\n",
       "      <td>71.2833</td>\n",
       "      <td>C85</td>\n",
       "      <td>C</td>\n",
       "    </tr>\n",
       "    <tr>\n",
       "      <th>2</th>\n",
       "      <td>3</td>\n",
       "      <td>1</td>\n",
       "      <td>3</td>\n",
       "      <td>Heikkinen, Miss. Laina</td>\n",
       "      <td>female</td>\n",
       "      <td>26.0</td>\n",
       "      <td>0</td>\n",
       "      <td>0</td>\n",
       "      <td>STON/O2. 3101282</td>\n",
       "      <td>7.9250</td>\n",
       "      <td>NaN</td>\n",
       "      <td>S</td>\n",
       "    </tr>\n",
       "  </tbody>\n",
       "</table>\n",
       "</div>"
      ],
      "text/plain": [
       "   PassengerId  Survived  Pclass  \\\n",
       "0            1         0       3   \n",
       "1            2         1       1   \n",
       "2            3         1       3   \n",
       "\n",
       "                                                Name     Sex   Age  SibSp  \\\n",
       "0                            Braund, Mr. Owen Harris    male  22.0      1   \n",
       "1  Cumings, Mrs. John Bradley (Florence Briggs Th...  female  38.0      1   \n",
       "2                             Heikkinen, Miss. Laina  female  26.0      0   \n",
       "\n",
       "   Parch            Ticket     Fare Cabin Embarked  \n",
       "0      0         A/5 21171   7.2500   NaN        S  \n",
       "1      0          PC 17599  71.2833   C85        C  \n",
       "2      0  STON/O2. 3101282   7.9250   NaN        S  "
      ]
     },
     "execution_count": 197,
     "metadata": {},
     "output_type": "execute_result"
    }
   ],
   "source": [
    "# Visualizando a base de treino\n",
    "treino = pd.read_csv('train.csv')\n",
    "treino.head(3)"
   ]
  },
  {
   "cell_type": "code",
   "execution_count": 198,
   "id": "a8bf6800",
   "metadata": {},
   "outputs": [
    {
     "data": {
      "text/html": [
       "<div>\n",
       "<style scoped>\n",
       "    .dataframe tbody tr th:only-of-type {\n",
       "        vertical-align: middle;\n",
       "    }\n",
       "\n",
       "    .dataframe tbody tr th {\n",
       "        vertical-align: top;\n",
       "    }\n",
       "\n",
       "    .dataframe thead th {\n",
       "        text-align: right;\n",
       "    }\n",
       "</style>\n",
       "<table border=\"1\" class=\"dataframe\">\n",
       "  <thead>\n",
       "    <tr style=\"text-align: right;\">\n",
       "      <th></th>\n",
       "      <th>PassengerId</th>\n",
       "      <th>Pclass</th>\n",
       "      <th>Name</th>\n",
       "      <th>Sex</th>\n",
       "      <th>Age</th>\n",
       "      <th>SibSp</th>\n",
       "      <th>Parch</th>\n",
       "      <th>Ticket</th>\n",
       "      <th>Fare</th>\n",
       "      <th>Cabin</th>\n",
       "      <th>Embarked</th>\n",
       "    </tr>\n",
       "  </thead>\n",
       "  <tbody>\n",
       "    <tr>\n",
       "      <th>0</th>\n",
       "      <td>892</td>\n",
       "      <td>3</td>\n",
       "      <td>Kelly, Mr. James</td>\n",
       "      <td>male</td>\n",
       "      <td>34.5</td>\n",
       "      <td>0</td>\n",
       "      <td>0</td>\n",
       "      <td>330911</td>\n",
       "      <td>7.8292</td>\n",
       "      <td>NaN</td>\n",
       "      <td>Q</td>\n",
       "    </tr>\n",
       "    <tr>\n",
       "      <th>1</th>\n",
       "      <td>893</td>\n",
       "      <td>3</td>\n",
       "      <td>Wilkes, Mrs. James (Ellen Needs)</td>\n",
       "      <td>female</td>\n",
       "      <td>47.0</td>\n",
       "      <td>1</td>\n",
       "      <td>0</td>\n",
       "      <td>363272</td>\n",
       "      <td>7.0000</td>\n",
       "      <td>NaN</td>\n",
       "      <td>S</td>\n",
       "    </tr>\n",
       "    <tr>\n",
       "      <th>2</th>\n",
       "      <td>894</td>\n",
       "      <td>2</td>\n",
       "      <td>Myles, Mr. Thomas Francis</td>\n",
       "      <td>male</td>\n",
       "      <td>62.0</td>\n",
       "      <td>0</td>\n",
       "      <td>0</td>\n",
       "      <td>240276</td>\n",
       "      <td>9.6875</td>\n",
       "      <td>NaN</td>\n",
       "      <td>Q</td>\n",
       "    </tr>\n",
       "  </tbody>\n",
       "</table>\n",
       "</div>"
      ],
      "text/plain": [
       "   PassengerId  Pclass                              Name     Sex   Age  SibSp  \\\n",
       "0          892       3                  Kelly, Mr. James    male  34.5      0   \n",
       "1          893       3  Wilkes, Mrs. James (Ellen Needs)  female  47.0      1   \n",
       "2          894       2         Myles, Mr. Thomas Francis    male  62.0      0   \n",
       "\n",
       "   Parch  Ticket    Fare Cabin Embarked  \n",
       "0      0  330911  7.8292   NaN        Q  \n",
       "1      0  363272  7.0000   NaN        S  \n",
       "2      0  240276  9.6875   NaN        Q  "
      ]
     },
     "execution_count": 198,
     "metadata": {},
     "output_type": "execute_result"
    }
   ],
   "source": [
    "# Visualizando a base de teste\n",
    "teste = pd.read_csv('test.csv')\n",
    "teste.head(3)"
   ]
  },
  {
   "cell_type": "markdown",
   "id": "da9d4907",
   "metadata": {},
   "source": [
    "- **Fazendo o mesmo tratamento inicial que fizemos nas aulas anteriores**"
   ]
  },
  {
   "cell_type": "code",
   "execution_count": 199,
   "id": "bf0433e5",
   "metadata": {},
   "outputs": [],
   "source": [
    "# Eliminando as colunas com elevada cardinalidade\n",
    "treino = treino.drop(['Name','Ticket','Cabin'],axis=1)\n",
    "teste = teste.drop(['Name','Ticket','Cabin'],axis=1)"
   ]
  },
  {
   "cell_type": "code",
   "execution_count": 200,
   "id": "fb7cfa69",
   "metadata": {},
   "outputs": [],
   "source": [
    "# Usando a média para substituir valores nulos na coluna de idade\n",
    "treino.loc[treino.Age.isnull(),'Age'] = treino.Age.mean()\n",
    "teste.loc[teste.Age.isnull(),'Age'] = teste.Age.mean()"
   ]
  },
  {
   "cell_type": "code",
   "execution_count": 201,
   "id": "5ae224c0",
   "metadata": {},
   "outputs": [],
   "source": [
    "# Tratando a coluna Embarked da base de treino usando a moda \n",
    "treino.loc[treino.Embarked.isnull(),'Embarked'] = treino.Embarked.mode()[0]"
   ]
  },
  {
   "cell_type": "code",
   "execution_count": 202,
   "id": "2d38ce71",
   "metadata": {},
   "outputs": [],
   "source": [
    "# E também a coluna Fare da base de teste usando a média\n",
    "teste.loc[teste.Fare.isnull(),'Fare'] = teste.Fare.mean()"
   ]
  },
  {
   "cell_type": "code",
   "execution_count": 203,
   "id": "9ef39208",
   "metadata": {},
   "outputs": [],
   "source": [
    "# Usando uma lambda function para tratar a coluna \"Sex\"\n",
    "treino['MaleCheck'] = treino.Sex.apply(lambda x: 1 if x == 'male' else 0)\n",
    "teste['MaleCheck'] = teste.Sex.apply(lambda x: 1 if x == 'male' else 0)"
   ]
  },
  {
   "cell_type": "markdown",
   "id": "25814ecd",
   "metadata": {},
   "source": [
    "- E vamos usar o **[OneHotEncoder](https://scikit-learn.org/stable/modules/generated/sklearn.preprocessing.OneHotEncoder.html)** para tratar a coluna Embarked"
   ]
  },
  {
   "cell_type": "code",
   "execution_count": 204,
   "id": "4d49ca4a",
   "metadata": {},
   "outputs": [],
   "source": [
    "# Criando o encoder e fazendo o fit com os dados\n",
    "from sklearn.preprocessing import OneHotEncoder\n",
    "ohe = OneHotEncoder(handle_unknown='ignore',dtype='int32')\n",
    "ohe = ohe.fit(treino[['Embarked']])"
   ]
  },
  {
   "cell_type": "code",
   "execution_count": 205,
   "id": "a301fd2a",
   "metadata": {},
   "outputs": [],
   "source": [
    "# Atualizando a base de treino com os novos valores\n",
    "ohe_df = pd.DataFrame(ohe.transform(treino[['Embarked']]).toarray(),columns=ohe.get_feature_names_out())\n",
    "treino = pd.concat([treino,ohe_df],axis=1)"
   ]
  },
  {
   "cell_type": "code",
   "execution_count": 206,
   "id": "557d4dc0",
   "metadata": {},
   "outputs": [],
   "source": [
    "# e a base de teste\n",
    "ohe_df = pd.DataFrame(ohe.transform(teste[['Embarked']]).toarray(),columns=ohe.get_feature_names_out())\n",
    "teste = pd.concat([teste,ohe_df],axis=1)"
   ]
  },
  {
   "cell_type": "code",
   "execution_count": 207,
   "id": "209605b7",
   "metadata": {},
   "outputs": [],
   "source": [
    "# Podemos então apagar essas duas colunas que já tratamos\n",
    "treino = treino.drop(['Sex','Embarked'],axis=1)\n",
    "teste = teste.drop(['Sex','Embarked'],axis=1)"
   ]
  },
  {
   "cell_type": "markdown",
   "id": "f1bbb277",
   "metadata": {},
   "source": [
    "- Visualizando a base resultante"
   ]
  },
  {
   "cell_type": "code",
   "execution_count": 208,
   "id": "6cfd7f55",
   "metadata": {},
   "outputs": [
    {
     "data": {
      "text/html": [
       "<div>\n",
       "<style scoped>\n",
       "    .dataframe tbody tr th:only-of-type {\n",
       "        vertical-align: middle;\n",
       "    }\n",
       "\n",
       "    .dataframe tbody tr th {\n",
       "        vertical-align: top;\n",
       "    }\n",
       "\n",
       "    .dataframe thead th {\n",
       "        text-align: right;\n",
       "    }\n",
       "</style>\n",
       "<table border=\"1\" class=\"dataframe\">\n",
       "  <thead>\n",
       "    <tr style=\"text-align: right;\">\n",
       "      <th></th>\n",
       "      <th>PassengerId</th>\n",
       "      <th>Survived</th>\n",
       "      <th>Pclass</th>\n",
       "      <th>Age</th>\n",
       "      <th>SibSp</th>\n",
       "      <th>Parch</th>\n",
       "      <th>Fare</th>\n",
       "      <th>MaleCheck</th>\n",
       "      <th>Embarked_C</th>\n",
       "      <th>Embarked_Q</th>\n",
       "      <th>Embarked_S</th>\n",
       "    </tr>\n",
       "  </thead>\n",
       "  <tbody>\n",
       "    <tr>\n",
       "      <th>0</th>\n",
       "      <td>1</td>\n",
       "      <td>0</td>\n",
       "      <td>3</td>\n",
       "      <td>22.0</td>\n",
       "      <td>1</td>\n",
       "      <td>0</td>\n",
       "      <td>7.2500</td>\n",
       "      <td>1</td>\n",
       "      <td>0</td>\n",
       "      <td>0</td>\n",
       "      <td>1</td>\n",
       "    </tr>\n",
       "    <tr>\n",
       "      <th>1</th>\n",
       "      <td>2</td>\n",
       "      <td>1</td>\n",
       "      <td>1</td>\n",
       "      <td>38.0</td>\n",
       "      <td>1</td>\n",
       "      <td>0</td>\n",
       "      <td>71.2833</td>\n",
       "      <td>0</td>\n",
       "      <td>1</td>\n",
       "      <td>0</td>\n",
       "      <td>0</td>\n",
       "    </tr>\n",
       "    <tr>\n",
       "      <th>2</th>\n",
       "      <td>3</td>\n",
       "      <td>1</td>\n",
       "      <td>3</td>\n",
       "      <td>26.0</td>\n",
       "      <td>0</td>\n",
       "      <td>0</td>\n",
       "      <td>7.9250</td>\n",
       "      <td>0</td>\n",
       "      <td>0</td>\n",
       "      <td>0</td>\n",
       "      <td>1</td>\n",
       "    </tr>\n",
       "  </tbody>\n",
       "</table>\n",
       "</div>"
      ],
      "text/plain": [
       "   PassengerId  Survived  Pclass   Age  SibSp  Parch     Fare  MaleCheck  \\\n",
       "0            1         0       3  22.0      1      0   7.2500          1   \n",
       "1            2         1       1  38.0      1      0  71.2833          0   \n",
       "2            3         1       3  26.0      0      0   7.9250          0   \n",
       "\n",
       "   Embarked_C  Embarked_Q  Embarked_S  \n",
       "0           0           0           1  \n",
       "1           1           0           0  \n",
       "2           0           0           1  "
      ]
     },
     "execution_count": 208,
     "metadata": {},
     "output_type": "execute_result"
    }
   ],
   "source": [
    "# Visualizando a base de treino\n",
    "treino.head(3)"
   ]
  },
  {
   "cell_type": "markdown",
   "id": "edfc9603",
   "metadata": {},
   "source": [
    "- Podemos já [utilizar essa base no modelo](#modelo) para efeitos de comparação com as melhorias que vamos fazer abaixo"
   ]
  },
  {
   "cell_type": "markdown",
   "id": "8562721a",
   "metadata": {},
   "source": [
    "<a id='ajustes'></a>\n",
    "### Vamos fazer alguns ajustes nos dados para melhorar o resultado do nosso modelo\n",
    "- [Podemos começar analisando a escala dos dados](#escala)\n",
    "- [Depois podemos entender as colunas SibSp e Parch](#familia)\n",
    "- [Selecionando as melhores variáveis do modelo](#f_selection)\n",
    "    - [Entendendo a relação entre **Pclass e Fare**](#PclassFare)\n",
    "    - [Entendendo sobre as **colunas de embarque**](#Embarque)\n",
    "    - [Entendendo agora as **colunas de família**](#Familia)"
   ]
  },
  {
   "cell_type": "markdown",
   "id": "19a98f82",
   "metadata": {},
   "source": [
    "<a id='escala'></a>\n",
    "#### Analisando a escala dos dados\n",
    "- As colunas **\"Age\" e \"Fare\"** estão em uma **escala muito diferente das outras**, podemos começar fazendo um ajuste nessas escalas\n",
    "    - Vamos usar os **[ajustes de escala do próprio Scikit-Learn](https://scikit-learn.org/stable/modules/preprocessing.html#standardization-or-mean-removal-and-variance-scaling)**\n",
    "    - Como essas colunas possuem outliers, podemos começar tentando utilizar o **[RobustScaler](https://scikit-learn.org/stable/modules/generated/sklearn.preprocessing.RobustScaler.html#sklearn.preprocessing.RobustScaler)**"
   ]
  },
  {
   "cell_type": "code",
   "execution_count": 209,
   "id": "40b2f97f",
   "metadata": {},
   "outputs": [
    {
     "data": {
      "image/png": "[encoded data removed]",
      "text/plain": [
       "<Figure size 1500x500 with 1 Axes>"
      ]
     },
     "metadata": {},
     "output_type": "display_data"
    }
   ],
   "source": [
    "# Visualizando a escala desses dados\n",
    "import matplotlib.pyplot as plt\n",
    "\n",
    "fig, ax = plt.subplots(figsize=(15,5))\n",
    "\n",
    "ax.boxplot(treino.iloc[:,1:11])\n",
    "ax.set_xticks(range(1,treino.iloc[:,1:11].shape[1]+1),treino.iloc[:,1:11].columns)\n",
    "\n",
    "plt.show()"
   ]
  },
  {
   "cell_type": "code",
   "execution_count": 210,
   "id": "ffe05417",
   "metadata": {},
   "outputs": [],
   "source": [
    "# Importando o RobustScaler\n",
    "from sklearn.preprocessing import RobustScaler"
   ]
  },
  {
   "cell_type": "code",
   "execution_count": 211,
   "id": "5dd97803",
   "metadata": {},
   "outputs": [],
   "source": [
    "# Criando o scaler\n",
    "transformer = RobustScaler().fit(treino[['Age', 'Fare']])"
   ]
  },
  {
   "cell_type": "code",
   "execution_count": 212,
   "id": "c8d385c9",
   "metadata": {},
   "outputs": [],
   "source": [
    "# Fazendo o transformação dos dados\n",
    "treino[['Age','Fare']] = transformer.transform(treino[['Age', 'Fare']])"
   ]
  },
  {
   "cell_type": "code",
   "execution_count": 213,
   "id": "fa4394f5",
   "metadata": {},
   "outputs": [],
   "source": [
    "# Fazendo o mesmo para a base de teste\n",
    "transformer = RobustScaler().fit(teste[['Age', 'Fare']])\n",
    "teste[['Age','Fare']] = transformer.transform(teste[['Age', 'Fare']])"
   ]
  },
  {
   "cell_type": "code",
   "execution_count": 214,
   "id": "3a50ae09",
   "metadata": {},
   "outputs": [
    {
     "data": {
      "image/png": "[encoded data removed]",
      "text/plain": [
       "<Figure size 1500x500 with 1 Axes>"
      ]
     },
     "metadata": {},
     "output_type": "display_data"
    }
   ],
   "source": [
    "# Visualizando novamente os dados\n",
    "fig, ax = plt.subplots(figsize=(15,5))\n",
    "\n",
    "ax.boxplot(treino.iloc[:,1:11])\n",
    "ax.set_xticks(range(1,treino.iloc[:,1:11].shape[1]+1),treino.iloc[:,1:11].columns)\n",
    "\n",
    "plt.show()"
   ]
  },
  {
   "cell_type": "markdown",
   "id": "4b1b4bab",
   "metadata": {},
   "source": [
    "- Podemos já [utilizar essa base no modelo](#modelo) para verificar o resultado"
   ]
  },
  {
   "cell_type": "markdown",
   "id": "a052ffd5",
   "metadata": {},
   "source": [
    "<a id='familia'></a>\n",
    "#### Entendendo as colunas SibSp e Parch\n",
    "- Agora podemos entender as colunas **SibSp** e **Parch**\n",
    "    - **SibSp**: Nº de irmãos/cônjuges a bordo do Titanic\n",
    "    - **Parch**: Nº de pais/filhos a bordo do Titanic\n",
    "- Podemos verificar quantas pessoas sobreviveram em cada um dos valores dessa coluna"
   ]
  },
  {
   "cell_type": "code",
   "execution_count": 80,
   "id": "9d066d20",
   "metadata": {},
   "outputs": [
    {
     "data": {
      "text/html": [
       "<div>\n",
       "<style scoped>\n",
       "    .dataframe tbody tr th:only-of-type {\n",
       "        vertical-align: middle;\n",
       "    }\n",
       "\n",
       "    .dataframe tbody tr th {\n",
       "        vertical-align: top;\n",
       "    }\n",
       "\n",
       "    .dataframe thead th {\n",
       "        text-align: right;\n",
       "    }\n",
       "</style>\n",
       "<table border=\"1\" class=\"dataframe\">\n",
       "  <thead>\n",
       "    <tr style=\"text-align: right;\">\n",
       "      <th></th>\n",
       "      <th>SibSp</th>\n",
       "      <th>sobrev</th>\n",
       "      <th>total</th>\n",
       "      <th>tx_sobrev</th>\n",
       "    </tr>\n",
       "  </thead>\n",
       "  <tbody>\n",
       "    <tr>\n",
       "      <th>0</th>\n",
       "      <td>0</td>\n",
       "      <td>210</td>\n",
       "      <td>608</td>\n",
       "      <td>0.345395</td>\n",
       "    </tr>\n",
       "    <tr>\n",
       "      <th>1</th>\n",
       "      <td>1</td>\n",
       "      <td>112</td>\n",
       "      <td>209</td>\n",
       "      <td>0.535885</td>\n",
       "    </tr>\n",
       "    <tr>\n",
       "      <th>2</th>\n",
       "      <td>2</td>\n",
       "      <td>13</td>\n",
       "      <td>28</td>\n",
       "      <td>0.464286</td>\n",
       "    </tr>\n",
       "    <tr>\n",
       "      <th>3</th>\n",
       "      <td>3</td>\n",
       "      <td>4</td>\n",
       "      <td>16</td>\n",
       "      <td>0.250000</td>\n",
       "    </tr>\n",
       "    <tr>\n",
       "      <th>4</th>\n",
       "      <td>4</td>\n",
       "      <td>3</td>\n",
       "      <td>18</td>\n",
       "      <td>0.166667</td>\n",
       "    </tr>\n",
       "    <tr>\n",
       "      <th>5</th>\n",
       "      <td>5</td>\n",
       "      <td>0</td>\n",
       "      <td>5</td>\n",
       "      <td>0.000000</td>\n",
       "    </tr>\n",
       "    <tr>\n",
       "      <th>6</th>\n",
       "      <td>8</td>\n",
       "      <td>0</td>\n",
       "      <td>7</td>\n",
       "      <td>0.000000</td>\n",
       "    </tr>\n",
       "  </tbody>\n",
       "</table>\n",
       "</div>"
      ],
      "text/plain": [
       "   SibSp  sobrev  total  tx_sobrev\n",
       "0      0     210    608   0.345395\n",
       "1      1     112    209   0.535885\n",
       "2      2      13     28   0.464286\n",
       "3      3       4     16   0.250000\n",
       "4      4       3     18   0.166667\n",
       "5      5       0      5   0.000000\n",
       "6      8       0      7   0.000000"
      ]
     },
     "execution_count": 80,
     "metadata": {},
     "output_type": "execute_result"
    }
   ],
   "source": [
    "# Verificando a sobrevivência para SibSp\n",
    "SibSp_df = treino.groupby('SibSp')['Survived'].agg(['sum', 'count', 'mean']).reset_index()\n",
    "SibSp_df.columns = ['SibSp', 'sobrev', 'total', 'tx_sobrev']\n",
    "SibSp_df"
   ]
  },
  {
   "cell_type": "code",
   "execution_count": 92,
   "id": "5f36f771",
   "metadata": {},
   "outputs": [
    {
     "data": {
      "text/html": [
       "<div>\n",
       "<style scoped>\n",
       "    .dataframe tbody tr th:only-of-type {\n",
       "        vertical-align: middle;\n",
       "    }\n",
       "\n",
       "    .dataframe tbody tr th {\n",
       "        vertical-align: top;\n",
       "    }\n",
       "\n",
       "    .dataframe thead th {\n",
       "        text-align: right;\n",
       "    }\n",
       "</style>\n",
       "<table border=\"1\" class=\"dataframe\">\n",
       "  <thead>\n",
       "    <tr style=\"text-align: right;\">\n",
       "      <th></th>\n",
       "      <th>Parch</th>\n",
       "      <th>sobrev</th>\n",
       "      <th>total</th>\n",
       "      <th>tx_sobrev</th>\n",
       "    </tr>\n",
       "  </thead>\n",
       "  <tbody>\n",
       "    <tr>\n",
       "      <th>0</th>\n",
       "      <td>0</td>\n",
       "      <td>233</td>\n",
       "      <td>678</td>\n",
       "      <td>0.343658</td>\n",
       "    </tr>\n",
       "    <tr>\n",
       "      <th>1</th>\n",
       "      <td>1</td>\n",
       "      <td>65</td>\n",
       "      <td>118</td>\n",
       "      <td>0.550847</td>\n",
       "    </tr>\n",
       "    <tr>\n",
       "      <th>2</th>\n",
       "      <td>2</td>\n",
       "      <td>40</td>\n",
       "      <td>80</td>\n",
       "      <td>0.500000</td>\n",
       "    </tr>\n",
       "    <tr>\n",
       "      <th>3</th>\n",
       "      <td>3</td>\n",
       "      <td>3</td>\n",
       "      <td>5</td>\n",
       "      <td>0.600000</td>\n",
       "    </tr>\n",
       "    <tr>\n",
       "      <th>4</th>\n",
       "      <td>4</td>\n",
       "      <td>0</td>\n",
       "      <td>4</td>\n",
       "      <td>0.000000</td>\n",
       "    </tr>\n",
       "    <tr>\n",
       "      <th>5</th>\n",
       "      <td>5</td>\n",
       "      <td>1</td>\n",
       "      <td>5</td>\n",
       "      <td>0.200000</td>\n",
       "    </tr>\n",
       "    <tr>\n",
       "      <th>6</th>\n",
       "      <td>6</td>\n",
       "      <td>0</td>\n",
       "      <td>1</td>\n",
       "      <td>0.000000</td>\n",
       "    </tr>\n",
       "  </tbody>\n",
       "</table>\n",
       "</div>"
      ],
      "text/plain": [
       "   Parch  sobrev  total  tx_sobrev\n",
       "0      0     233    678   0.343658\n",
       "1      1      65    118   0.550847\n",
       "2      2      40     80   0.500000\n",
       "3      3       3      5   0.600000\n",
       "4      4       0      4   0.000000\n",
       "5      5       1      5   0.200000\n",
       "6      6       0      1   0.000000"
      ]
     },
     "execution_count": 92,
     "metadata": {},
     "output_type": "execute_result"
    }
   ],
   "source": [
    "# Verificando a sobrevivência para Parch\n",
    "Parch_df = treino.groupby('Parch')['Survived'].agg(['sum', 'count', 'mean']).reset_index()\n",
    "Parch_df.columns = ['Parch', 'sobrev', 'total', 'tx_sobrev']\n",
    "Parch_df"
   ]
  },
  {
   "cell_type": "code",
   "execution_count": 82,
   "id": "eb463a9b",
   "metadata": {},
   "outputs": [
    {
     "data": {
      "image/png": "[encoded data removed]",
      "text/plain": [
       "<Figure size 1000x600 with 4 Axes>"
      ]
     },
     "metadata": {},
     "output_type": "display_data"
    }
   ],
   "source": [
    "# Visualizando essas informações graficamente\n",
    "fig, ax = plt.subplots(ncols=2,nrows=2,figsize=(10,6))\n",
    "\n",
    "ax[0,0].plot(SibSp_df.SibSp, SibSp_df.sobrev)\n",
    "ax[0,0].plot(SibSp_df.SibSp, SibSp_df.total)\n",
    "ax[0,0].set_title('sobreviventes por nº de irmãos/cônjuges', fontsize=10)\n",
    "\n",
    "labels1 = ax[0,1].bar(SibSp_df.SibSp, SibSp_df.tx_sobrev)\n",
    "ax[0,1].bar_label(labels1,fmt=\"%.02f\")\n",
    "ax[0,1].set(ylim=(0,0.6))\n",
    "ax[0,1].set_title('taxa de sobrevivência por nº de irmãos/cônjuges', fontsize=10)\n",
    "\n",
    "ax[1,0].plot(Parch_df.Parch, Parch_df.sobrev)\n",
    "ax[1,0].plot(Parch_df.Parch, Parch_df.total)\n",
    "ax[1,0].set_title('sobreviventes por nº de pais/filhos', fontsize=10)\n",
    "\n",
    "labels2 = ax[1,1].bar(Parch_df.Parch, Parch_df.tx_sobrev)\n",
    "ax[1,1].bar_label(labels2,fmt=\"%.02f\")\n",
    "ax[1,1].set(ylim=(0,0.7))\n",
    "ax[1,1].set_title('taxa de sobrevivência por nº de pais/filhos', fontsize=10)\n",
    "\n",
    "plt.subplots_adjust(hspace=0.5)\n",
    "\n",
    "plt.show()"
   ]
  },
  {
   "cell_type": "markdown",
   "id": "964f9147",
   "metadata": {},
   "source": [
    "- **Passageiros viajando sozinho tiveram um menor percentual de sobrevivência**\n",
    "    - Podemos criar uma nova coluna identificando se o passageiro está viajando sozinho"
   ]
  },
  {
   "cell_type": "code",
   "execution_count": 83,
   "id": "50abfdc9",
   "metadata": {},
   "outputs": [],
   "source": [
    "# Criando uma função para verificar se os dois valores são vazios\n",
    "def sozinho(a, b):\n",
    "    if (a==0 and b==0):\n",
    "        return 1\n",
    "    else:\n",
    "        return 0"
   ]
  },
  {
   "cell_type": "code",
   "execution_count": 84,
   "id": "0e0051bb",
   "metadata": {},
   "outputs": [],
   "source": [
    "# Aplicando essa função na base de treino\n",
    "treino['Sozinho'] = treino.apply(lambda x: sozinho(x.SibSp, x.Parch), axis=1)"
   ]
  },
  {
   "cell_type": "code",
   "execution_count": 87,
   "id": "af1e093a",
   "metadata": {},
   "outputs": [
    {
     "data": {
      "text/html": [
       "<div>\n",
       "<style scoped>\n",
       "    .dataframe tbody tr th:only-of-type {\n",
       "        vertical-align: middle;\n",
       "    }\n",
       "\n",
       "    .dataframe tbody tr th {\n",
       "        vertical-align: top;\n",
       "    }\n",
       "\n",
       "    .dataframe thead th {\n",
       "        text-align: right;\n",
       "    }\n",
       "</style>\n",
       "<table border=\"1\" class=\"dataframe\">\n",
       "  <thead>\n",
       "    <tr style=\"text-align: right;\">\n",
       "      <th></th>\n",
       "      <th>SibSp</th>\n",
       "      <th>Parch</th>\n",
       "    </tr>\n",
       "    <tr>\n",
       "      <th>Sozinho</th>\n",
       "      <th></th>\n",
       "      <th></th>\n",
       "    </tr>\n",
       "  </thead>\n",
       "  <tbody>\n",
       "    <tr>\n",
       "      <th>0</th>\n",
       "      <td>1.316384</td>\n",
       "      <td>0.960452</td>\n",
       "    </tr>\n",
       "    <tr>\n",
       "      <th>1</th>\n",
       "      <td>0.000000</td>\n",
       "      <td>0.000000</td>\n",
       "    </tr>\n",
       "  </tbody>\n",
       "</table>\n",
       "</div>"
      ],
      "text/plain": [
       "            SibSp     Parch\n",
       "Sozinho                    \n",
       "0        1.316384  0.960452\n",
       "1        0.000000  0.000000"
      ]
     },
     "execution_count": 87,
     "metadata": {},
     "output_type": "execute_result"
    }
   ],
   "source": [
    "# Verificando os valores nessa coluna\n",
    "treino.groupby('Sozinho')[['SibSp', 'Parch']].mean()"
   ]
  },
  {
   "cell_type": "code",
   "execution_count": 88,
   "id": "90c1ea4e",
   "metadata": {},
   "outputs": [],
   "source": [
    "# Fazendo o mesmo para a base de teste\n",
    "teste['Sozinho'] = teste.apply(lambda x: sozinho(x.SibSp, x.Parch), axis=1)"
   ]
  },
  {
   "cell_type": "markdown",
   "id": "f2c1e7f4",
   "metadata": {},
   "source": [
    "- Podemos também **criar uma nova coluna** sendo o **total de familiares a bordo**"
   ]
  },
  {
   "cell_type": "code",
   "execution_count": 89,
   "id": "3b6cb56f",
   "metadata": {},
   "outputs": [],
   "source": [
    "# Criando para a base de treino\n",
    "treino['Familiares'] = treino.SibSp + treino.Parch"
   ]
  },
  {
   "cell_type": "code",
   "execution_count": 90,
   "id": "f99cdd92",
   "metadata": {},
   "outputs": [],
   "source": [
    "# E para a base de teste\n",
    "teste['Familiares'] = treino.SibSp + treino.Parch"
   ]
  },
  {
   "cell_type": "code",
   "execution_count": 96,
   "id": "1ba6e738",
   "metadata": {},
   "outputs": [
    {
     "data": {
      "text/html": [
       "<div>\n",
       "<style scoped>\n",
       "    .dataframe tbody tr th:only-of-type {\n",
       "        vertical-align: middle;\n",
       "    }\n",
       "\n",
       "    .dataframe tbody tr th {\n",
       "        vertical-align: top;\n",
       "    }\n",
       "\n",
       "    .dataframe thead th {\n",
       "        text-align: right;\n",
       "    }\n",
       "</style>\n",
       "<table border=\"1\" class=\"dataframe\">\n",
       "  <thead>\n",
       "    <tr style=\"text-align: right;\">\n",
       "      <th></th>\n",
       "      <th>Familiares</th>\n",
       "      <th>sobrev</th>\n",
       "      <th>total</th>\n",
       "      <th>tx_sobrev</th>\n",
       "    </tr>\n",
       "  </thead>\n",
       "  <tbody>\n",
       "    <tr>\n",
       "      <th>0</th>\n",
       "      <td>0</td>\n",
       "      <td>163</td>\n",
       "      <td>537</td>\n",
       "      <td>0.303538</td>\n",
       "    </tr>\n",
       "    <tr>\n",
       "      <th>1</th>\n",
       "      <td>1</td>\n",
       "      <td>89</td>\n",
       "      <td>161</td>\n",
       "      <td>0.552795</td>\n",
       "    </tr>\n",
       "    <tr>\n",
       "      <th>2</th>\n",
       "      <td>2</td>\n",
       "      <td>59</td>\n",
       "      <td>102</td>\n",
       "      <td>0.578431</td>\n",
       "    </tr>\n",
       "    <tr>\n",
       "      <th>3</th>\n",
       "      <td>3</td>\n",
       "      <td>21</td>\n",
       "      <td>29</td>\n",
       "      <td>0.724138</td>\n",
       "    </tr>\n",
       "    <tr>\n",
       "      <th>4</th>\n",
       "      <td>4</td>\n",
       "      <td>3</td>\n",
       "      <td>15</td>\n",
       "      <td>0.200000</td>\n",
       "    </tr>\n",
       "    <tr>\n",
       "      <th>5</th>\n",
       "      <td>5</td>\n",
       "      <td>3</td>\n",
       "      <td>22</td>\n",
       "      <td>0.136364</td>\n",
       "    </tr>\n",
       "    <tr>\n",
       "      <th>6</th>\n",
       "      <td>6</td>\n",
       "      <td>4</td>\n",
       "      <td>12</td>\n",
       "      <td>0.333333</td>\n",
       "    </tr>\n",
       "    <tr>\n",
       "      <th>7</th>\n",
       "      <td>7</td>\n",
       "      <td>0</td>\n",
       "      <td>6</td>\n",
       "      <td>0.000000</td>\n",
       "    </tr>\n",
       "    <tr>\n",
       "      <th>8</th>\n",
       "      <td>10</td>\n",
       "      <td>0</td>\n",
       "      <td>7</td>\n",
       "      <td>0.000000</td>\n",
       "    </tr>\n",
       "  </tbody>\n",
       "</table>\n",
       "</div>"
      ],
      "text/plain": [
       "   Familiares  sobrev  total  tx_sobrev\n",
       "0           0     163    537   0.303538\n",
       "1           1      89    161   0.552795\n",
       "2           2      59    102   0.578431\n",
       "3           3      21     29   0.724138\n",
       "4           4       3     15   0.200000\n",
       "5           5       3     22   0.136364\n",
       "6           6       4     12   0.333333\n",
       "7           7       0      6   0.000000\n",
       "8          10       0      7   0.000000"
      ]
     },
     "execution_count": 96,
     "metadata": {},
     "output_type": "execute_result"
    }
   ],
   "source": [
    "# Verificando a sobrevivência para Familiares\n",
    "Familiares_df = treino.groupby('Familiares')['Survived'].agg(['sum', 'count', 'mean']).reset_index()\n",
    "Familiares_df.columns = ['Familiares', 'sobrev', 'total', 'tx_sobrev']\n",
    "Familiares_df"
   ]
  },
  {
   "cell_type": "code",
   "execution_count": 97,
   "id": "d7971f83",
   "metadata": {},
   "outputs": [
    {
     "data": {
      "image/png": "[encoded data removed]",
      "text/plain": [
       "<Figure size 1000x300 with 2 Axes>"
      ]
     },
     "metadata": {},
     "output_type": "display_data"
    }
   ],
   "source": [
    "# Visualizando a informação de familiares\n",
    "fig, ax = plt.subplots(ncols=2,figsize=(10,3))\n",
    "\n",
    "ax[0].plot(Familiares_df.Familiares, Familiares_df.sobrev)\n",
    "ax[0].plot(Familiares_df.Familiares, Familiares_df.total)\n",
    "ax[0].set_title('sobreviventes por nº de familiares', fontsize=10)\n",
    "\n",
    "labels1 = ax[1].bar(Familiares_df.Familiares, Familiares_df.tx_sobrev)\n",
    "ax[1].bar_label(labels1,fmt=\"%.02f\")\n",
    "ax[1].set(ylim=(0,0.8))\n",
    "ax[1].set_title('taxa de sobrevivência por nº de familiares', fontsize=10)\n",
    "\n",
    "plt.show()"
   ]
  },
  {
   "cell_type": "markdown",
   "id": "f5e1b161",
   "metadata": {},
   "source": [
    "- Podemos já [utilizar essa base no modelo](#modelo) para verificar o resultado"
   ]
  },
  {
   "cell_type": "markdown",
   "id": "80379e39",
   "metadata": {},
   "source": [
    "<a id=\"f_selection\"></a>\n",
    "#### Selecionando os melhores recursos\n",
    "- Primeiramente precisamos analisar qual a **correlação entre as variáveis** e verificar se não existem variáveis que estão basicamente \"dizendo a mesma coisa\""
   ]
  },
  {
   "cell_type": "code",
   "execution_count": 124,
   "id": "1b97a710",
   "metadata": {},
   "outputs": [
    {
     "data": {
      "text/html": [
       "<div>\n",
       "<style scoped>\n",
       "    .dataframe tbody tr th:only-of-type {\n",
       "        vertical-align: middle;\n",
       "    }\n",
       "\n",
       "    .dataframe tbody tr th {\n",
       "        vertical-align: top;\n",
       "    }\n",
       "\n",
       "    .dataframe thead th {\n",
       "        text-align: right;\n",
       "    }\n",
       "</style>\n",
       "<table border=\"1\" class=\"dataframe\">\n",
       "  <thead>\n",
       "    <tr style=\"text-align: right;\">\n",
       "      <th></th>\n",
       "      <th>PassengerId</th>\n",
       "      <th>Survived</th>\n",
       "      <th>Pclass</th>\n",
       "      <th>Age</th>\n",
       "      <th>SibSp</th>\n",
       "      <th>Parch</th>\n",
       "      <th>Fare</th>\n",
       "      <th>MaleCheck</th>\n",
       "      <th>Embarked_C</th>\n",
       "      <th>Embarked_Q</th>\n",
       "      <th>Embarked_S</th>\n",
       "      <th>Sozinho</th>\n",
       "      <th>Familiares</th>\n",
       "    </tr>\n",
       "  </thead>\n",
       "  <tbody>\n",
       "    <tr>\n",
       "      <th>0</th>\n",
       "      <td>1</td>\n",
       "      <td>0</td>\n",
       "      <td>3</td>\n",
       "      <td>-0.592240</td>\n",
       "      <td>1</td>\n",
       "      <td>0</td>\n",
       "      <td>-0.312011</td>\n",
       "      <td>1</td>\n",
       "      <td>0</td>\n",
       "      <td>0</td>\n",
       "      <td>1</td>\n",
       "      <td>0</td>\n",
       "      <td>1</td>\n",
       "    </tr>\n",
       "    <tr>\n",
       "      <th>1</th>\n",
       "      <td>2</td>\n",
       "      <td>1</td>\n",
       "      <td>1</td>\n",
       "      <td>0.638529</td>\n",
       "      <td>1</td>\n",
       "      <td>0</td>\n",
       "      <td>2.461242</td>\n",
       "      <td>0</td>\n",
       "      <td>1</td>\n",
       "      <td>0</td>\n",
       "      <td>0</td>\n",
       "      <td>0</td>\n",
       "      <td>1</td>\n",
       "    </tr>\n",
       "    <tr>\n",
       "      <th>2</th>\n",
       "      <td>3</td>\n",
       "      <td>1</td>\n",
       "      <td>3</td>\n",
       "      <td>-0.284548</td>\n",
       "      <td>0</td>\n",
       "      <td>0</td>\n",
       "      <td>-0.282777</td>\n",
       "      <td>0</td>\n",
       "      <td>0</td>\n",
       "      <td>0</td>\n",
       "      <td>1</td>\n",
       "      <td>1</td>\n",
       "      <td>0</td>\n",
       "    </tr>\n",
       "    <tr>\n",
       "      <th>3</th>\n",
       "      <td>4</td>\n",
       "      <td>1</td>\n",
       "      <td>1</td>\n",
       "      <td>0.407760</td>\n",
       "      <td>1</td>\n",
       "      <td>0</td>\n",
       "      <td>1.673732</td>\n",
       "      <td>0</td>\n",
       "      <td>0</td>\n",
       "      <td>0</td>\n",
       "      <td>1</td>\n",
       "      <td>0</td>\n",
       "      <td>1</td>\n",
       "    </tr>\n",
       "    <tr>\n",
       "      <th>4</th>\n",
       "      <td>5</td>\n",
       "      <td>0</td>\n",
       "      <td>3</td>\n",
       "      <td>0.407760</td>\n",
       "      <td>0</td>\n",
       "      <td>0</td>\n",
       "      <td>-0.277363</td>\n",
       "      <td>1</td>\n",
       "      <td>0</td>\n",
       "      <td>0</td>\n",
       "      <td>1</td>\n",
       "      <td>1</td>\n",
       "      <td>0</td>\n",
       "    </tr>\n",
       "  </tbody>\n",
       "</table>\n",
       "</div>"
      ],
      "text/plain": [
       "   PassengerId  Survived  Pclass       Age  SibSp  Parch      Fare  MaleCheck  \\\n",
       "0            1         0       3 -0.592240      1      0 -0.312011          1   \n",
       "1            2         1       1  0.638529      1      0  2.461242          0   \n",
       "2            3         1       3 -0.284548      0      0 -0.282777          0   \n",
       "3            4         1       1  0.407760      1      0  1.673732          0   \n",
       "4            5         0       3  0.407760      0      0 -0.277363          1   \n",
       "\n",
       "   Embarked_C  Embarked_Q  Embarked_S  Sozinho  Familiares  \n",
       "0           0           0           1        0           1  \n",
       "1           1           0           0        0           1  \n",
       "2           0           0           1        1           0  \n",
       "3           0           0           1        0           1  \n",
       "4           0           0           1        1           0  "
      ]
     },
     "execution_count": 124,
     "metadata": {},
     "output_type": "execute_result"
    }
   ],
   "source": [
    "# Visualizando a base\n",
    "treino.head(5)"
   ]
  },
  {
   "cell_type": "code",
   "execution_count": 126,
   "id": "358f0d55",
   "metadata": {},
   "outputs": [
    {
     "data": {
      "text/html": [
       "<div>\n",
       "<style scoped>\n",
       "    .dataframe tbody tr th:only-of-type {\n",
       "        vertical-align: middle;\n",
       "    }\n",
       "\n",
       "    .dataframe tbody tr th {\n",
       "        vertical-align: top;\n",
       "    }\n",
       "\n",
       "    .dataframe thead th {\n",
       "        text-align: right;\n",
       "    }\n",
       "</style>\n",
       "<table border=\"1\" class=\"dataframe\">\n",
       "  <thead>\n",
       "    <tr style=\"text-align: right;\">\n",
       "      <th></th>\n",
       "      <th>PassengerId</th>\n",
       "      <th>Survived</th>\n",
       "      <th>Pclass</th>\n",
       "      <th>Age</th>\n",
       "      <th>SibSp</th>\n",
       "      <th>Parch</th>\n",
       "      <th>Fare</th>\n",
       "      <th>MaleCheck</th>\n",
       "      <th>Embarked_C</th>\n",
       "      <th>Embarked_Q</th>\n",
       "      <th>Embarked_S</th>\n",
       "      <th>Sozinho</th>\n",
       "      <th>Familiares</th>\n",
       "    </tr>\n",
       "  </thead>\n",
       "  <tbody>\n",
       "    <tr>\n",
       "      <th>PassengerId</th>\n",
       "      <td>1.000000</td>\n",
       "      <td>-0.005007</td>\n",
       "      <td>-0.035144</td>\n",
       "      <td>0.033207</td>\n",
       "      <td>-0.057527</td>\n",
       "      <td>-0.001652</td>\n",
       "      <td>0.012658</td>\n",
       "      <td>0.042939</td>\n",
       "      <td>-0.001205</td>\n",
       "      <td>-0.033606</td>\n",
       "      <td>0.022204</td>\n",
       "      <td>0.057462</td>\n",
       "      <td>-0.040143</td>\n",
       "    </tr>\n",
       "    <tr>\n",
       "      <th>Survived</th>\n",
       "      <td>-0.005007</td>\n",
       "      <td>1.000000</td>\n",
       "      <td>-0.338481</td>\n",
       "      <td>-0.069809</td>\n",
       "      <td>-0.035322</td>\n",
       "      <td>0.081629</td>\n",
       "      <td>0.257307</td>\n",
       "      <td>-0.543351</td>\n",
       "      <td>0.168240</td>\n",
       "      <td>0.003650</td>\n",
       "      <td>-0.149683</td>\n",
       "      <td>-0.203367</td>\n",
       "      <td>0.016639</td>\n",
       "    </tr>\n",
       "    <tr>\n",
       "      <th>Pclass</th>\n",
       "      <td>-0.035144</td>\n",
       "      <td>-0.338481</td>\n",
       "      <td>1.000000</td>\n",
       "      <td>-0.331339</td>\n",
       "      <td>0.083081</td>\n",
       "      <td>0.018443</td>\n",
       "      <td>-0.549500</td>\n",
       "      <td>0.131900</td>\n",
       "      <td>-0.243292</td>\n",
       "      <td>0.221009</td>\n",
       "      <td>0.074053</td>\n",
       "      <td>0.135207</td>\n",
       "      <td>0.065997</td>\n",
       "    </tr>\n",
       "    <tr>\n",
       "      <th>Age</th>\n",
       "      <td>0.033207</td>\n",
       "      <td>-0.069809</td>\n",
       "      <td>-0.331339</td>\n",
       "      <td>1.000000</td>\n",
       "      <td>-0.232625</td>\n",
       "      <td>-0.179191</td>\n",
       "      <td>0.091566</td>\n",
       "      <td>0.084153</td>\n",
       "      <td>0.032024</td>\n",
       "      <td>-0.013855</td>\n",
       "      <td>-0.019336</td>\n",
       "      <td>0.179775</td>\n",
       "      <td>-0.248512</td>\n",
       "    </tr>\n",
       "    <tr>\n",
       "      <th>SibSp</th>\n",
       "      <td>-0.057527</td>\n",
       "      <td>-0.035322</td>\n",
       "      <td>0.083081</td>\n",
       "      <td>-0.232625</td>\n",
       "      <td>1.000000</td>\n",
       "      <td>0.414838</td>\n",
       "      <td>0.159651</td>\n",
       "      <td>-0.114631</td>\n",
       "      <td>-0.059528</td>\n",
       "      <td>-0.026354</td>\n",
       "      <td>0.068734</td>\n",
       "      <td>-0.584471</td>\n",
       "      <td>0.890712</td>\n",
       "    </tr>\n",
       "    <tr>\n",
       "      <th>Parch</th>\n",
       "      <td>-0.001652</td>\n",
       "      <td>0.081629</td>\n",
       "      <td>0.018443</td>\n",
       "      <td>-0.179191</td>\n",
       "      <td>0.414838</td>\n",
       "      <td>1.000000</td>\n",
       "      <td>0.216225</td>\n",
       "      <td>-0.245489</td>\n",
       "      <td>-0.011069</td>\n",
       "      <td>-0.081228</td>\n",
       "      <td>0.060814</td>\n",
       "      <td>-0.583398</td>\n",
       "      <td>0.783111</td>\n",
       "    </tr>\n",
       "    <tr>\n",
       "      <th>Fare</th>\n",
       "      <td>0.012658</td>\n",
       "      <td>0.257307</td>\n",
       "      <td>-0.549500</td>\n",
       "      <td>0.091566</td>\n",
       "      <td>0.159651</td>\n",
       "      <td>0.216225</td>\n",
       "      <td>1.000000</td>\n",
       "      <td>-0.182333</td>\n",
       "      <td>0.269335</td>\n",
       "      <td>-0.117216</td>\n",
       "      <td>-0.162184</td>\n",
       "      <td>-0.271832</td>\n",
       "      <td>0.217138</td>\n",
       "    </tr>\n",
       "    <tr>\n",
       "      <th>MaleCheck</th>\n",
       "      <td>0.042939</td>\n",
       "      <td>-0.543351</td>\n",
       "      <td>0.131900</td>\n",
       "      <td>0.084153</td>\n",
       "      <td>-0.114631</td>\n",
       "      <td>-0.245489</td>\n",
       "      <td>-0.182333</td>\n",
       "      <td>1.000000</td>\n",
       "      <td>-0.082853</td>\n",
       "      <td>-0.074115</td>\n",
       "      <td>0.119224</td>\n",
       "      <td>0.303646</td>\n",
       "      <td>-0.200988</td>\n",
       "    </tr>\n",
       "    <tr>\n",
       "      <th>Embarked_C</th>\n",
       "      <td>-0.001205</td>\n",
       "      <td>0.168240</td>\n",
       "      <td>-0.243292</td>\n",
       "      <td>0.032024</td>\n",
       "      <td>-0.059528</td>\n",
       "      <td>-0.011069</td>\n",
       "      <td>0.269335</td>\n",
       "      <td>-0.082853</td>\n",
       "      <td>1.000000</td>\n",
       "      <td>-0.148258</td>\n",
       "      <td>-0.782742</td>\n",
       "      <td>-0.095298</td>\n",
       "      <td>-0.046215</td>\n",
       "    </tr>\n",
       "    <tr>\n",
       "      <th>Embarked_Q</th>\n",
       "      <td>-0.033606</td>\n",
       "      <td>0.003650</td>\n",
       "      <td>0.221009</td>\n",
       "      <td>-0.013855</td>\n",
       "      <td>-0.026354</td>\n",
       "      <td>-0.081228</td>\n",
       "      <td>-0.117216</td>\n",
       "      <td>-0.074115</td>\n",
       "      <td>-0.148258</td>\n",
       "      <td>1.000000</td>\n",
       "      <td>-0.499421</td>\n",
       "      <td>0.086464</td>\n",
       "      <td>-0.058592</td>\n",
       "    </tr>\n",
       "    <tr>\n",
       "      <th>Embarked_S</th>\n",
       "      <td>0.022204</td>\n",
       "      <td>-0.149683</td>\n",
       "      <td>0.074053</td>\n",
       "      <td>-0.019336</td>\n",
       "      <td>0.068734</td>\n",
       "      <td>0.060814</td>\n",
       "      <td>-0.162184</td>\n",
       "      <td>0.119224</td>\n",
       "      <td>-0.782742</td>\n",
       "      <td>-0.499421</td>\n",
       "      <td>1.000000</td>\n",
       "      <td>0.029074</td>\n",
       "      <td>0.077359</td>\n",
       "    </tr>\n",
       "    <tr>\n",
       "      <th>Sozinho</th>\n",
       "      <td>0.057462</td>\n",
       "      <td>-0.203367</td>\n",
       "      <td>0.135207</td>\n",
       "      <td>0.179775</td>\n",
       "      <td>-0.584471</td>\n",
       "      <td>-0.583398</td>\n",
       "      <td>-0.271832</td>\n",
       "      <td>0.303646</td>\n",
       "      <td>-0.095298</td>\n",
       "      <td>0.086464</td>\n",
       "      <td>0.029074</td>\n",
       "      <td>1.000000</td>\n",
       "      <td>-0.690922</td>\n",
       "    </tr>\n",
       "    <tr>\n",
       "      <th>Familiares</th>\n",
       "      <td>-0.040143</td>\n",
       "      <td>0.016639</td>\n",
       "      <td>0.065997</td>\n",
       "      <td>-0.248512</td>\n",
       "      <td>0.890712</td>\n",
       "      <td>0.783111</td>\n",
       "      <td>0.217138</td>\n",
       "      <td>-0.200988</td>\n",
       "      <td>-0.046215</td>\n",
       "      <td>-0.058592</td>\n",
       "      <td>0.077359</td>\n",
       "      <td>-0.690922</td>\n",
       "      <td>1.000000</td>\n",
       "    </tr>\n",
       "  </tbody>\n",
       "</table>\n",
       "</div>"
      ],
      "text/plain": [
       "             PassengerId  Survived    Pclass       Age     SibSp     Parch  \\\n",
       "PassengerId     1.000000 -0.005007 -0.035144  0.033207 -0.057527 -0.001652   \n",
       "Survived       -0.005007  1.000000 -0.338481 -0.069809 -0.035322  0.081629   \n",
       "Pclass         -0.035144 -0.338481  1.000000 -0.331339  0.083081  0.018443   \n",
       "Age             0.033207 -0.069809 -0.331339  1.000000 -0.232625 -0.179191   \n",
       "SibSp          -0.057527 -0.035322  0.083081 -0.232625  1.000000  0.414838   \n",
       "Parch          -0.001652  0.081629  0.018443 -0.179191  0.414838  1.000000   \n",
       "Fare            0.012658  0.257307 -0.549500  0.091566  0.159651  0.216225   \n",
       "MaleCheck       0.042939 -0.543351  0.131900  0.084153 -0.114631 -0.245489   \n",
       "Embarked_C     -0.001205  0.168240 -0.243292  0.032024 -0.059528 -0.011069   \n",
       "Embarked_Q     -0.033606  0.003650  0.221009 -0.013855 -0.026354 -0.081228   \n",
       "Embarked_S      0.022204 -0.149683  0.074053 -0.019336  0.068734  0.060814   \n",
       "Sozinho         0.057462 -0.203367  0.135207  0.179775 -0.584471 -0.583398   \n",
       "Familiares     -0.040143  0.016639  0.065997 -0.248512  0.890712  0.783111   \n",
       "\n",
       "                 Fare  MaleCheck  Embarked_C  Embarked_Q  Embarked_S  \\\n",
       "PassengerId  0.012658   0.042939   -0.001205   -0.033606    0.022204   \n",
       "Survived     0.257307  -0.543351    0.168240    0.003650   -0.149683   \n",
       "Pclass      -0.549500   0.131900   -0.243292    0.221009    0.074053   \n",
       "Age          0.091566   0.084153    0.032024   -0.013855   -0.019336   \n",
       "SibSp        0.159651  -0.114631   -0.059528   -0.026354    0.068734   \n",
       "Parch        0.216225  -0.245489   -0.011069   -0.081228    0.060814   \n",
       "Fare         1.000000  -0.182333    0.269335   -0.117216   -0.162184   \n",
       "MaleCheck   -0.182333   1.000000   -0.082853   -0.074115    0.119224   \n",
       "Embarked_C   0.269335  -0.082853    1.000000   -0.148258   -0.782742   \n",
       "Embarked_Q  -0.117216  -0.074115   -0.148258    1.000000   -0.499421   \n",
       "Embarked_S  -0.162184   0.119224   -0.782742   -0.499421    1.000000   \n",
       "Sozinho     -0.271832   0.303646   -0.095298    0.086464    0.029074   \n",
       "Familiares   0.217138  -0.200988   -0.046215   -0.058592    0.077359   \n",
       "\n",
       "              Sozinho  Familiares  \n",
       "PassengerId  0.057462   -0.040143  \n",
       "Survived    -0.203367    0.016639  \n",
       "Pclass       0.135207    0.065997  \n",
       "Age          0.179775   -0.248512  \n",
       "SibSp       -0.584471    0.890712  \n",
       "Parch       -0.583398    0.783111  \n",
       "Fare        -0.271832    0.217138  \n",
       "MaleCheck    0.303646   -0.200988  \n",
       "Embarked_C  -0.095298   -0.046215  \n",
       "Embarked_Q   0.086464   -0.058592  \n",
       "Embarked_S   0.029074    0.077359  \n",
       "Sozinho      1.000000   -0.690922  \n",
       "Familiares  -0.690922    1.000000  "
      ]
     },
     "execution_count": 126,
     "metadata": {},
     "output_type": "execute_result"
    }
   ],
   "source": [
    "# Analisando a correlação entre as variáveis\n",
    "treino.corr()"
   ]
  },
  {
   "cell_type": "code",
   "execution_count": 127,
   "id": "7b83fd76",
   "metadata": {},
   "outputs": [
    {
     "data": {
      "image/png": "[encoded data removed]",
      "text/plain": [
       "<Figure size 1000x500 with 2 Axes>"
      ]
     },
     "metadata": {},
     "output_type": "display_data"
    }
   ],
   "source": [
    "# Tornando a correlação mais visual\n",
    "import seaborn as sns\n",
    "\n",
    "fig, ax = plt.subplots(figsize=(10,5))\n",
    "\n",
    "sns.heatmap(treino.corr(), annot=True, fmt=\".2f\")\n",
    "\n",
    "plt.show()"
   ]
  },
  {
   "cell_type": "markdown",
   "id": "10467cf4",
   "metadata": {},
   "source": [
    "<a id='PclassFare'></a>\n",
    "- <font color='blue'> Entendendo a relação entre **Pclass e Fare** </font>"
   ]
  },
  {
   "cell_type": "code",
   "execution_count": 128,
   "id": "3280ef0a",
   "metadata": {},
   "outputs": [
    {
     "data": {
      "image/png": "[encoded data removed]",
      "text/plain": [
       "<Figure size 1000x300 with 1 Axes>"
      ]
     },
     "metadata": {},
     "output_type": "display_data"
    }
   ],
   "source": [
    "# Visualizando a relação entre essas variáveis\n",
    "fig, ax = plt.subplots(figsize=(10,3))\n",
    "\n",
    "sns.boxplot(data=treino,x='Pclass',y='Fare',hue='Survived')\n",
    "ax.set_title('Pclass x Fare', fontsize=10)\n",
    "\n",
    "plt.show()"
   ]
  },
  {
   "cell_type": "code",
   "execution_count": 129,
   "id": "b88a03e6",
   "metadata": {},
   "outputs": [
    {
     "data": {
      "text/plain": [
       "Pclass\n",
       "1    0.629630\n",
       "2    0.472826\n",
       "3    0.242363\n",
       "Name: Survived, dtype: float64"
      ]
     },
     "execution_count": 129,
     "metadata": {},
     "output_type": "execute_result"
    }
   ],
   "source": [
    "# Verificando a taxa de sobrevivência em cada uma das classes\n",
    "treino.groupby('Pclass')['Survived'].mean()"
   ]
  },
  {
   "cell_type": "code",
   "execution_count": 132,
   "id": "aad65f7d",
   "metadata": {},
   "outputs": [
    {
     "data": {
      "text/html": [
       "<div>\n",
       "<style scoped>\n",
       "    .dataframe tbody tr th:only-of-type {\n",
       "        vertical-align: middle;\n",
       "    }\n",
       "\n",
       "    .dataframe tbody tr th {\n",
       "        vertical-align: top;\n",
       "    }\n",
       "\n",
       "    .dataframe thead th {\n",
       "        text-align: right;\n",
       "    }\n",
       "</style>\n",
       "<table border=\"1\" class=\"dataframe\">\n",
       "  <thead>\n",
       "    <tr style=\"text-align: right;\">\n",
       "      <th></th>\n",
       "      <th></th>\n",
       "      <th>min</th>\n",
       "      <th>mean</th>\n",
       "      <th>max</th>\n",
       "    </tr>\n",
       "    <tr>\n",
       "      <th>Pclass</th>\n",
       "      <th>Survived</th>\n",
       "      <th></th>\n",
       "      <th></th>\n",
       "      <th></th>\n",
       "    </tr>\n",
       "  </thead>\n",
       "  <tbody>\n",
       "    <tr>\n",
       "      <th rowspan=\"2\" valign=\"top\">1</th>\n",
       "      <th>0</th>\n",
       "      <td>-0.626005</td>\n",
       "      <td>2.175430</td>\n",
       "      <td>10.764405</td>\n",
       "    </tr>\n",
       "    <tr>\n",
       "      <th>1</th>\n",
       "      <td>0.496977</td>\n",
       "      <td>3.514735</td>\n",
       "      <td>21.562738</td>\n",
       "    </tr>\n",
       "    <tr>\n",
       "      <th rowspan=\"2\" valign=\"top\">2</th>\n",
       "      <th>0</th>\n",
       "      <td>-0.626005</td>\n",
       "      <td>0.214734</td>\n",
       "      <td>2.557247</td>\n",
       "    </tr>\n",
       "    <tr>\n",
       "      <th>1</th>\n",
       "      <td>-0.171255</td>\n",
       "      <td>0.329217</td>\n",
       "      <td>2.189115</td>\n",
       "    </tr>\n",
       "    <tr>\n",
       "      <th rowspan=\"2\" valign=\"top\">3</th>\n",
       "      <th>0</th>\n",
       "      <td>-0.626005</td>\n",
       "      <td>-0.033991</td>\n",
       "      <td>2.386174</td>\n",
       "    </tr>\n",
       "    <tr>\n",
       "      <th>1</th>\n",
       "      <td>-0.626005</td>\n",
       "      <td>-0.032885</td>\n",
       "      <td>1.820802</td>\n",
       "    </tr>\n",
       "  </tbody>\n",
       "</table>\n",
       "</div>"
      ],
      "text/plain": [
       "                      min      mean        max\n",
       "Pclass Survived                               \n",
       "1      0        -0.626005  2.175430  10.764405\n",
       "       1         0.496977  3.514735  21.562738\n",
       "2      0        -0.626005  0.214734   2.557247\n",
       "       1        -0.171255  0.329217   2.189115\n",
       "3      0        -0.626005 -0.033991   2.386174\n",
       "       1        -0.626005 -0.032885   1.820802"
      ]
     },
     "execution_count": 132,
     "metadata": {},
     "output_type": "execute_result"
    }
   ],
   "source": [
    "# Entendendo a relação entre Pclass x Fare\n",
    "treino.groupby(['Pclass', 'Survived'])['Fare'].agg(['min', 'mean', 'max'])"
   ]
  },
  {
   "cell_type": "markdown",
   "id": "657a8fe7",
   "metadata": {},
   "source": [
    "- Nesse momento pode surgir a pergunta do motivo de termos **pessoas pagando o mesmo preço em classes diferentes**\n",
    "    - Procurando no Kaggle, [essa resposta](https://www.kaggle.com/questions-and-answers/128215) ajuda a explicar um pouco:\n",
    "\n",
    "\n",
    "_\"Se você conseguiu economizar e guardar todo o seu dinheiro para uma viagem para mudar sua vida e ir para a América, você é uma terceira classe, um imigrante que precisa trazer sua própria comida a bordo e ter em mente como suas provisões se sustentariam. A segunda classe era formada por trabalhadores de colarinho branco que podiam se dar ao luxo de viajar com um pouco de lazer, sem se preocupar com algo tão comum como comida. Primeira classe significa que você nasceu com dinheiro e não precisa sujar as mãos com o trabalho. Eles não eram separados apenas pelo custo, eles também eram separados por onde poderiam ir e o que recebiam.\"_ \n",
    "\n",
    "- Também tem um link do Reddit que detalha bem essa questão de classe x preço\n",
    "    - https://www.reddit.com/r/AskHistorians/comments/11dlsn6/why_was_the_cost_of_tickets_on_the_titanic_so/?onetap_auto=true\n",
    "    - Podemos pensar em direcionar uma **análise relacionando ao preço da cabine**, porém **essa variável possui 77.1% dos valores vazios**"
   ]
  },
  {
   "cell_type": "markdown",
   "id": "200bd1bb",
   "metadata": {},
   "source": [
    "<a id='Embarque'></a>\n",
    "- <font color='blue'> Entendendo sobre as **colunas de embarque** </font>\n",
    "    - Inicialmente pensamos não existir relação de ordem entre a coluna de embarque, mas pesquisando [nesse artigo](https://pt.wikipedia.org/wiki/RMS_Titanic) percebemos que **existe sim essa correlação**\n",
    "    \n",
    "    \n",
    "_\"O Titanic deixou o porto de **Southampton**...Em seguida ele foi para **Cherbourg-Octeville** na França...em sua maioria da primeira classe.O Titanic então rumou para **Queenstown** na Irlanda...principalmente imigrantes da terceira classe que pretendiam tentar a vida nos Estados Unidos.\"_ "
   ]
  },
  {
   "cell_type": "code",
   "execution_count": 142,
   "id": "f767fa8b",
   "metadata": {},
   "outputs": [
    {
     "data": {
      "text/html": [
       "<div>\n",
       "<style scoped>\n",
       "    .dataframe tbody tr th:only-of-type {\n",
       "        vertical-align: middle;\n",
       "    }\n",
       "\n",
       "    .dataframe tbody tr th {\n",
       "        vertical-align: top;\n",
       "    }\n",
       "\n",
       "    .dataframe thead th {\n",
       "        text-align: right;\n",
       "    }\n",
       "</style>\n",
       "<table border=\"1\" class=\"dataframe\">\n",
       "  <thead>\n",
       "    <tr style=\"text-align: right;\">\n",
       "      <th></th>\n",
       "      <th>PassengerId</th>\n",
       "      <th>Pclass</th>\n",
       "      <th>Name</th>\n",
       "      <th>Sex</th>\n",
       "      <th>Age</th>\n",
       "      <th>SibSp</th>\n",
       "      <th>Parch</th>\n",
       "      <th>Ticket</th>\n",
       "      <th>Fare</th>\n",
       "      <th>Cabin</th>\n",
       "      <th>Embarked</th>\n",
       "    </tr>\n",
       "  </thead>\n",
       "  <tbody>\n",
       "    <tr>\n",
       "      <th>0</th>\n",
       "      <td>892</td>\n",
       "      <td>3</td>\n",
       "      <td>Kelly, Mr. James</td>\n",
       "      <td>male</td>\n",
       "      <td>34.5</td>\n",
       "      <td>0</td>\n",
       "      <td>0</td>\n",
       "      <td>330911</td>\n",
       "      <td>7.8292</td>\n",
       "      <td>NaN</td>\n",
       "      <td>Q</td>\n",
       "    </tr>\n",
       "    <tr>\n",
       "      <th>1</th>\n",
       "      <td>893</td>\n",
       "      <td>3</td>\n",
       "      <td>Wilkes, Mrs. James (Ellen Needs)</td>\n",
       "      <td>female</td>\n",
       "      <td>47.0</td>\n",
       "      <td>1</td>\n",
       "      <td>0</td>\n",
       "      <td>363272</td>\n",
       "      <td>7.0000</td>\n",
       "      <td>NaN</td>\n",
       "      <td>S</td>\n",
       "    </tr>\n",
       "    <tr>\n",
       "      <th>2</th>\n",
       "      <td>894</td>\n",
       "      <td>2</td>\n",
       "      <td>Myles, Mr. Thomas Francis</td>\n",
       "      <td>male</td>\n",
       "      <td>62.0</td>\n",
       "      <td>0</td>\n",
       "      <td>0</td>\n",
       "      <td>240276</td>\n",
       "      <td>9.6875</td>\n",
       "      <td>NaN</td>\n",
       "      <td>Q</td>\n",
       "    </tr>\n",
       "  </tbody>\n",
       "</table>\n",
       "</div>"
      ],
      "text/plain": [
       "   PassengerId  Pclass                              Name     Sex   Age  SibSp  \\\n",
       "0          892       3                  Kelly, Mr. James    male  34.5      0   \n",
       "1          893       3  Wilkes, Mrs. James (Ellen Needs)  female  47.0      1   \n",
       "2          894       2         Myles, Mr. Thomas Francis    male  62.0      0   \n",
       "\n",
       "   Parch  Ticket    Fare Cabin Embarked  \n",
       "0      0  330911  7.8292   NaN        Q  \n",
       "1      0  363272  7.0000   NaN        S  \n",
       "2      0  240276  9.6875   NaN        Q  "
      ]
     },
     "execution_count": 142,
     "metadata": {},
     "output_type": "execute_result"
    }
   ],
   "source": [
    "# Podemos importar novamente as bases para \"recuperar\" a coluna de embarque\n",
    "treino2 = pd.read_csv('train.csv')\n",
    "\n",
    "\n",
    "teste2 = pd.read_csv('test.csv')\n",
    "teste2.head(3)"
   ]
  },
  {
   "cell_type": "code",
   "execution_count": 143,
   "id": "0a96b47d",
   "metadata": {},
   "outputs": [],
   "source": [
    "# Como temos valores vazios, podemos novamente fazer o tratamento dos dados\n",
    "treino2['Embarked'] = treino2['Embarked'].fillna('S')"
   ]
  },
  {
   "cell_type": "markdown",
   "id": "6e60a214",
   "metadata": {},
   "source": [
    "- O que podemos fazer agora é colocar o porto em ordem de embarque (S depois C e depois Q)\n",
    "    - Podemos fazer isso através do **[OrdinalEncoder](https://scikit-learn.org/stable/modules/generated/sklearn.preprocessing.OrdinalEncoder.html)**"
   ]
  },
  {
   "cell_type": "code",
   "execution_count": 144,
   "id": "bed34138",
   "metadata": {},
   "outputs": [],
   "source": [
    "# Importando\n",
    "from sklearn.preprocessing import OrdinalEncoder"
   ]
  },
  {
   "cell_type": "code",
   "execution_count": 145,
   "id": "7a891ae3",
   "metadata": {},
   "outputs": [],
   "source": [
    "# Criando o encoder\n",
    "categorias = ['S', 'C', 'Q']\n",
    "\n",
    "enc = OrdinalEncoder(categories=[categorias], dtype='int32')"
   ]
  },
  {
   "cell_type": "code",
   "execution_count": 147,
   "id": "8a492048",
   "metadata": {},
   "outputs": [],
   "source": [
    "# Fazendo o fit com os dados\n",
    "enc = enc.fit(treino2[['Embarked']])"
   ]
  },
  {
   "cell_type": "code",
   "execution_count": 148,
   "id": "b9fefbae",
   "metadata": {},
   "outputs": [],
   "source": [
    "# Podemos então adicionar essa coluna na base de treino original\n",
    "treino['Embarked'] = enc.transform(treino2[['Embarked']])"
   ]
  },
  {
   "cell_type": "code",
   "execution_count": 149,
   "id": "6cac3082",
   "metadata": {},
   "outputs": [],
   "source": [
    "# E fazer o fit com os dados de teste\n",
    "enc = enc.fit(teste2[['Embarked']])"
   ]
  },
  {
   "cell_type": "code",
   "execution_count": 151,
   "id": "f568d141",
   "metadata": {},
   "outputs": [],
   "source": [
    "# E adicionar na base de teste original\n",
    "teste['Embarked'] = enc.transform(teste2[['Embarked']])"
   ]
  },
  {
   "cell_type": "code",
   "execution_count": 153,
   "id": "443cedf5",
   "metadata": {},
   "outputs": [],
   "source": [
    "# Agora podemos eliminar as colunas desnecessárias\n",
    "treino = treino.drop(['Embarked_C','Embarked_Q', 'Embarked_S'],axis=1)\n",
    "teste = teste.drop(['Embarked_C','Embarked_Q', 'Embarked_S'],axis=1)"
   ]
  },
  {
   "cell_type": "code",
   "execution_count": 154,
   "id": "3b79cda6",
   "metadata": {},
   "outputs": [
    {
     "data": {
      "image/png": "[encoded data removed]",
      "text/plain": [
       "<Figure size 1000x500 with 2 Axes>"
      ]
     },
     "metadata": {},
     "output_type": "display_data"
    }
   ],
   "source": [
    "# Visualizando novamente a correlação\n",
    "fig, ax = plt.subplots(figsize=(10,5))\n",
    "\n",
    "sns.heatmap(treino.corr(), annot=True, fmt=\".2f\")\n",
    "\n",
    "plt.show()"
   ]
  },
  {
   "cell_type": "markdown",
   "id": "81e4b1d3",
   "metadata": {},
   "source": [
    "<a id='Familia'></a>\n",
    "- <font color='blue'> Entendendo agora as **colunas de família** </font>\n",
    "    - Podemos usar a regressão logística e a árvore de classificação para verificar a importância de cada uma dessas colunas"
   ]
  },
  {
   "cell_type": "code",
   "execution_count": 155,
   "id": "b7b278c2",
   "metadata": {},
   "outputs": [],
   "source": [
    "# Separando X e y\n",
    "X = treino.drop(['PassengerId', 'Survived'],axis=1)\n",
    "y = treino.Survived"
   ]
  },
  {
   "cell_type": "code",
   "execution_count": 156,
   "id": "2521bebe",
   "metadata": {},
   "outputs": [],
   "source": [
    "# Usando a regressão logística nos dados\n",
    "clf_rl = LogisticRegression(random_state=42,max_iter=1000).fit(X, y)"
   ]
  },
  {
   "cell_type": "code",
   "execution_count": 158,
   "id": "1b25d716",
   "metadata": {},
   "outputs": [
    {
     "data": {
      "text/plain": [
       "array([-1.03314773, -0.49645712, -0.26819737,  0.01690958,  0.04398615,\n",
       "       -2.5345877 , -0.73233826, -0.25128778,  0.23866778])"
      ]
     },
     "execution_count": 158,
     "metadata": {},
     "output_type": "execute_result"
    }
   ],
   "source": [
    "# Verificando a importância\n",
    "clf_rl.coef_[0]"
   ]
  },
  {
   "cell_type": "code",
   "execution_count": 159,
   "id": "8c687e51",
   "metadata": {},
   "outputs": [],
   "source": [
    "# Agora usando a árvore de classificação\n",
    "clf_ac = tree.DecisionTreeClassifier(random_state=42).fit(X, y)"
   ]
  },
  {
   "cell_type": "code",
   "execution_count": 160,
   "id": "23566e7e",
   "metadata": {},
   "outputs": [
    {
     "data": {
      "text/plain": [
       "array([0.10901775, 0.22826711, 0.01907221, 0.0272942 , 0.23870173,\n",
       "       0.30933519, 0.00397775, 0.04365035, 0.02068372])"
      ]
     },
     "execution_count": 160,
     "metadata": {},
     "output_type": "execute_result"
    }
   ],
   "source": [
    "# Verificando a importância\n",
    "clf_ac.feature_importances_"
   ]
  },
  {
   "cell_type": "code",
   "execution_count": 161,
   "id": "9cf260d7",
   "metadata": {},
   "outputs": [
    {
     "data": {
      "text/html": [
       "<div>\n",
       "<style scoped>\n",
       "    .dataframe tbody tr th:only-of-type {\n",
       "        vertical-align: middle;\n",
       "    }\n",
       "\n",
       "    .dataframe tbody tr th {\n",
       "        vertical-align: top;\n",
       "    }\n",
       "\n",
       "    .dataframe thead th {\n",
       "        text-align: right;\n",
       "    }\n",
       "</style>\n",
       "<table border=\"1\" class=\"dataframe\">\n",
       "  <thead>\n",
       "    <tr style=\"text-align: right;\">\n",
       "      <th></th>\n",
       "      <th>colunas</th>\n",
       "      <th>reg. log</th>\n",
       "      <th>arvore</th>\n",
       "    </tr>\n",
       "  </thead>\n",
       "  <tbody>\n",
       "    <tr>\n",
       "      <th>0</th>\n",
       "      <td>Pclass</td>\n",
       "      <td>-1.033148</td>\n",
       "      <td>0.109018</td>\n",
       "    </tr>\n",
       "    <tr>\n",
       "      <th>1</th>\n",
       "      <td>Age</td>\n",
       "      <td>-0.496457</td>\n",
       "      <td>0.228267</td>\n",
       "    </tr>\n",
       "    <tr>\n",
       "      <th>2</th>\n",
       "      <td>SibSp</td>\n",
       "      <td>-0.268197</td>\n",
       "      <td>0.019072</td>\n",
       "    </tr>\n",
       "    <tr>\n",
       "      <th>3</th>\n",
       "      <td>Parch</td>\n",
       "      <td>0.016910</td>\n",
       "      <td>0.027294</td>\n",
       "    </tr>\n",
       "    <tr>\n",
       "      <th>4</th>\n",
       "      <td>Fare</td>\n",
       "      <td>0.043986</td>\n",
       "      <td>0.238702</td>\n",
       "    </tr>\n",
       "    <tr>\n",
       "      <th>5</th>\n",
       "      <td>MaleCheck</td>\n",
       "      <td>-2.534588</td>\n",
       "      <td>0.309335</td>\n",
       "    </tr>\n",
       "    <tr>\n",
       "      <th>6</th>\n",
       "      <td>Sozinho</td>\n",
       "      <td>-0.732338</td>\n",
       "      <td>0.003978</td>\n",
       "    </tr>\n",
       "    <tr>\n",
       "      <th>7</th>\n",
       "      <td>Familiares</td>\n",
       "      <td>-0.251288</td>\n",
       "      <td>0.043650</td>\n",
       "    </tr>\n",
       "    <tr>\n",
       "      <th>8</th>\n",
       "      <td>Embarked</td>\n",
       "      <td>0.238668</td>\n",
       "      <td>0.020684</td>\n",
       "    </tr>\n",
       "  </tbody>\n",
       "</table>\n",
       "</div>"
      ],
      "text/plain": [
       "      colunas  reg. log    arvore\n",
       "0      Pclass -1.033148  0.109018\n",
       "1         Age -0.496457  0.228267\n",
       "2       SibSp -0.268197  0.019072\n",
       "3       Parch  0.016910  0.027294\n",
       "4        Fare  0.043986  0.238702\n",
       "5   MaleCheck -2.534588  0.309335\n",
       "6     Sozinho -0.732338  0.003978\n",
       "7  Familiares -0.251288  0.043650\n",
       "8    Embarked  0.238668  0.020684"
      ]
     },
     "execution_count": 161,
     "metadata": {},
     "output_type": "execute_result"
    }
   ],
   "source": [
    "# Criando um DataFrame\n",
    "imp = pd.DataFrame({\n",
    "    'colunas': X.columns,\n",
    "    'reg. log': clf_rl.coef_[0],\n",
    "    'arvore': clf_ac.feature_importances_\n",
    "})\n",
    "imp"
   ]
  },
  {
   "cell_type": "code",
   "execution_count": 162,
   "id": "777f84d1",
   "metadata": {},
   "outputs": [],
   "source": [
    "# Podemos apenas manter as colunas mais relevantes\n",
    "treino = treino.drop(['SibSp', 'Parch'], axis = 1)\n",
    "teste = teste.drop(['SibSp', 'Parch'], axis = 1)"
   ]
  },
  {
   "cell_type": "markdown",
   "id": "6795fb4c",
   "metadata": {},
   "source": [
    "<a id='modelo'></a> \n",
    "### Usando essa nova base no modelo"
   ]
  },
  {
   "cell_type": "code",
   "execution_count": 215,
   "id": "51d5ea38",
   "metadata": {
    "scrolled": false
   },
   "outputs": [
    {
     "data": {
      "text/html": [
       "<div>\n",
       "<style scoped>\n",
       "    .dataframe tbody tr th:only-of-type {\n",
       "        vertical-align: middle;\n",
       "    }\n",
       "\n",
       "    .dataframe tbody tr th {\n",
       "        vertical-align: top;\n",
       "    }\n",
       "\n",
       "    .dataframe thead th {\n",
       "        text-align: right;\n",
       "    }\n",
       "</style>\n",
       "<table border=\"1\" class=\"dataframe\">\n",
       "  <thead>\n",
       "    <tr style=\"text-align: right;\">\n",
       "      <th></th>\n",
       "      <th>PassengerId</th>\n",
       "      <th>Survived</th>\n",
       "      <th>Pclass</th>\n",
       "      <th>Age</th>\n",
       "      <th>SibSp</th>\n",
       "      <th>Parch</th>\n",
       "      <th>Fare</th>\n",
       "      <th>MaleCheck</th>\n",
       "      <th>Embarked_C</th>\n",
       "      <th>Embarked_Q</th>\n",
       "      <th>Embarked_S</th>\n",
       "    </tr>\n",
       "  </thead>\n",
       "  <tbody>\n",
       "    <tr>\n",
       "      <th>0</th>\n",
       "      <td>1</td>\n",
       "      <td>0</td>\n",
       "      <td>3</td>\n",
       "      <td>-0.592240</td>\n",
       "      <td>1</td>\n",
       "      <td>0</td>\n",
       "      <td>-0.312011</td>\n",
       "      <td>1</td>\n",
       "      <td>0</td>\n",
       "      <td>0</td>\n",
       "      <td>1</td>\n",
       "    </tr>\n",
       "    <tr>\n",
       "      <th>1</th>\n",
       "      <td>2</td>\n",
       "      <td>1</td>\n",
       "      <td>1</td>\n",
       "      <td>0.638529</td>\n",
       "      <td>1</td>\n",
       "      <td>0</td>\n",
       "      <td>2.461242</td>\n",
       "      <td>0</td>\n",
       "      <td>1</td>\n",
       "      <td>0</td>\n",
       "      <td>0</td>\n",
       "    </tr>\n",
       "    <tr>\n",
       "      <th>2</th>\n",
       "      <td>3</td>\n",
       "      <td>1</td>\n",
       "      <td>3</td>\n",
       "      <td>-0.284548</td>\n",
       "      <td>0</td>\n",
       "      <td>0</td>\n",
       "      <td>-0.282777</td>\n",
       "      <td>0</td>\n",
       "      <td>0</td>\n",
       "      <td>0</td>\n",
       "      <td>1</td>\n",
       "    </tr>\n",
       "  </tbody>\n",
       "</table>\n",
       "</div>"
      ],
      "text/plain": [
       "   PassengerId  Survived  Pclass       Age  SibSp  Parch      Fare  MaleCheck  \\\n",
       "0            1         0       3 -0.592240      1      0 -0.312011          1   \n",
       "1            2         1       1  0.638529      1      0  2.461242          0   \n",
       "2            3         1       3 -0.284548      0      0 -0.282777          0   \n",
       "\n",
       "   Embarked_C  Embarked_Q  Embarked_S  \n",
       "0           0           0           1  \n",
       "1           1           0           0  \n",
       "2           0           0           1  "
      ]
     },
     "execution_count": 215,
     "metadata": {},
     "output_type": "execute_result"
    }
   ],
   "source": [
    "# Visualizando a base\n",
    "treino.head(3)"
   ]
  },
  {
   "cell_type": "markdown",
   "id": "7a7c3c7f",
   "metadata": {},
   "source": [
    "- Podemos selecionar os mesmos modelos que vimos anteriormente (consulte arquivo da **[parte 1](https://github.com/lucaslealx/Titanic/blob/main/Parte1.ipynb)**)\n",
    "    - **Árvore de classificação**\n",
    "        - https://scikit-learn.org/stable/modules/tree.html#classification\n",
    "    - **Classificação dos vizinhos mais próximos**\n",
    "        - https://scikit-learn.org/stable/modules/generated/sklearn.neighbors.KNeighborsClassifier.html#sklearn.neighbors.KNeighborsClassifier\n",
    "    - **Regressão Logística**\n",
    "        - https://scikit-learn.org/stable/modules/generated/sklearn.linear_model.LogisticRegression.html#sklearn.linear_model.LogisticRegression\n",
    "- Antes de usar os algoritmos, precisamos separar a base de treino em **treino e validação**\n",
    "    - Vamos fazer isso utilizando o **train_test_split**\n",
    "        - https://scikit-learn.org/stable/modules/generated/sklearn.model_selection.train_test_split.html"
   ]
  },
  {
   "cell_type": "code",
   "execution_count": 216,
   "id": "36f0b066",
   "metadata": {},
   "outputs": [],
   "source": [
    "# Importando o train_test_split\n",
    "from sklearn.model_selection import train_test_split"
   ]
  },
  {
   "cell_type": "code",
   "execution_count": 217,
   "id": "9110b1f4",
   "metadata": {},
   "outputs": [],
   "source": [
    "# Separando a base de treino em X e y\n",
    "X = treino.drop(['PassengerId','Survived'],axis=1)\n",
    "y = treino.Survived"
   ]
  },
  {
   "cell_type": "code",
   "execution_count": 218,
   "id": "7540d766",
   "metadata": {},
   "outputs": [],
   "source": [
    "# Separando em treino e validação\n",
    "X_train, X_val, y_train, y_val = train_test_split(X, y, test_size=0.33, random_state=42)"
   ]
  },
  {
   "cell_type": "markdown",
   "id": "6a6433c0",
   "metadata": {},
   "source": [
    "- Para a **árvore de classificação**"
   ]
  },
  {
   "cell_type": "code",
   "execution_count": 219,
   "id": "ca0ea325",
   "metadata": {},
   "outputs": [],
   "source": [
    "# Fazendo a importação\n",
    "from sklearn import tree"
   ]
  },
  {
   "cell_type": "code",
   "execution_count": 220,
   "id": "23f96bbb",
   "metadata": {},
   "outputs": [],
   "source": [
    "# Criando o classificador\n",
    "clf_ac = tree.DecisionTreeClassifier(random_state=42)"
   ]
  },
  {
   "cell_type": "code",
   "execution_count": 221,
   "id": "0be23ba5",
   "metadata": {},
   "outputs": [],
   "source": [
    "# Fazendo o fit com os dados\n",
    "clf_ac = clf_ac.fit(X_train,y_train)"
   ]
  },
  {
   "cell_type": "code",
   "execution_count": 222,
   "id": "620fd26d",
   "metadata": {},
   "outputs": [],
   "source": [
    "# Fazendo a previsão\n",
    "y_pred_ac = clf_ac.predict(X_val)"
   ]
  },
  {
   "cell_type": "markdown",
   "id": "860e0bc0",
   "metadata": {},
   "source": [
    "- Para o **KNeighborsClassifier**"
   ]
  },
  {
   "cell_type": "code",
   "execution_count": 223,
   "id": "4d54247f",
   "metadata": {},
   "outputs": [],
   "source": [
    "# Importando\n",
    "from sklearn.neighbors import KNeighborsClassifier"
   ]
  },
  {
   "cell_type": "code",
   "execution_count": 224,
   "id": "a5b0532d",
   "metadata": {},
   "outputs": [],
   "source": [
    "# Criando o classificador\n",
    "clf_knn = KNeighborsClassifier(n_neighbors=3)"
   ]
  },
  {
   "cell_type": "code",
   "execution_count": 225,
   "id": "f7093f72",
   "metadata": {},
   "outputs": [],
   "source": [
    "# Fazendo o fit com os dados\n",
    "clf_knn = clf_knn.fit(X_train,y_train)"
   ]
  },
  {
   "cell_type": "code",
   "execution_count": 226,
   "id": "0b62e22f",
   "metadata": {},
   "outputs": [],
   "source": [
    "# Fazendo a previsão\n",
    "y_pred_knn = clf_knn.predict(X_val)"
   ]
  },
  {
   "cell_type": "markdown",
   "id": "d7a681fb",
   "metadata": {},
   "source": [
    "- E para a **Regressão Logística**"
   ]
  },
  {
   "cell_type": "code",
   "execution_count": 227,
   "id": "acdb8597",
   "metadata": {},
   "outputs": [],
   "source": [
    "# Importando\n",
    "from sklearn.linear_model import LogisticRegression"
   ]
  },
  {
   "cell_type": "code",
   "execution_count": 228,
   "id": "57a895ac",
   "metadata": {},
   "outputs": [],
   "source": [
    "# Criando o classificador\n",
    "clf_rl = LogisticRegression(random_state=42,max_iter=1000)"
   ]
  },
  {
   "cell_type": "code",
   "execution_count": 229,
   "id": "a86ac3c4",
   "metadata": {},
   "outputs": [],
   "source": [
    "# Fazendo o fit com os dados\n",
    "clf_rl = clf_rl.fit(X_train,y_train)"
   ]
  },
  {
   "cell_type": "code",
   "execution_count": 230,
   "id": "4fd3c698",
   "metadata": {},
   "outputs": [],
   "source": [
    "# Fazendo a previsão\n",
    "y_pred_rl = clf_rl.predict(X_val)"
   ]
  },
  {
   "cell_type": "markdown",
   "id": "d76a8036",
   "metadata": {},
   "source": [
    "- Vamos novamente **avaliar os modelos**\n",
    "    - Acurácia (método de avaliação usado na competição):\n",
    "        - https://scikit-learn.org/stable/modules/generated/sklearn.metrics.accuracy_score.html\n",
    "    - Matriz de confusão (ajuda a visualizar a distribuição dos erros):\n",
    "        - https://scikit-learn.org/stable/modules/generated/sklearn.metrics.confusion_matrix.html"
   ]
  },
  {
   "cell_type": "markdown",
   "id": "bf694913",
   "metadata": {},
   "source": [
    "- Avaliando a **acurácia**"
   ]
  },
  {
   "cell_type": "code",
   "execution_count": 231,
   "id": "02fbd240",
   "metadata": {},
   "outputs": [],
   "source": [
    "# Importando\n",
    "from sklearn.metrics import accuracy_score"
   ]
  },
  {
   "cell_type": "code",
   "execution_count": 232,
   "id": "708543cc",
   "metadata": {},
   "outputs": [
    {
     "data": {
      "text/plain": [
       "0.7491525423728813"
      ]
     },
     "execution_count": 232,
     "metadata": {},
     "output_type": "execute_result"
    }
   ],
   "source": [
    "# Para a árvore\n",
    "as_ac = accuracy_score(y_val, y_pred_ac)\n",
    "as_ac"
   ]
  },
  {
   "cell_type": "code",
   "execution_count": 233,
   "id": "e38b7270",
   "metadata": {},
   "outputs": [
    {
     "data": {
      "text/plain": [
       "0.8"
      ]
     },
     "execution_count": 233,
     "metadata": {},
     "output_type": "execute_result"
    }
   ],
   "source": [
    "# Para o knn\n",
    "as_knn = accuracy_score(y_val, y_pred_knn)\n",
    "as_knn"
   ]
  },
  {
   "cell_type": "code",
   "execution_count": 234,
   "id": "446439ae",
   "metadata": {},
   "outputs": [
    {
     "data": {
      "text/plain": [
       "0.8169491525423729"
      ]
     },
     "execution_count": 234,
     "metadata": {},
     "output_type": "execute_result"
    }
   ],
   "source": [
    "# Para a regressão logística\n",
    "as_rl = accuracy_score(y_val, y_pred_rl)\n",
    "as_rl"
   ]
  },
  {
   "cell_type": "markdown",
   "id": "b23d9bc7",
   "metadata": {},
   "source": [
    "- Podemos salvar esses valores em um DataFrame para visualizarmos nossa evolução"
   ]
  },
  {
   "cell_type": "code",
   "execution_count": 34,
   "id": "c02842fa",
   "metadata": {},
   "outputs": [
    {
     "data": {
      "text/html": [
       "<div>\n",
       "<style scoped>\n",
       "    .dataframe tbody tr th:only-of-type {\n",
       "        vertical-align: middle;\n",
       "    }\n",
       "\n",
       "    .dataframe tbody tr th {\n",
       "        vertical-align: top;\n",
       "    }\n",
       "\n",
       "    .dataframe thead th {\n",
       "        text-align: right;\n",
       "    }\n",
       "</style>\n",
       "<table border=\"1\" class=\"dataframe\">\n",
       "  <thead>\n",
       "    <tr style=\"text-align: right;\">\n",
       "      <th></th>\n",
       "      <th>modelos</th>\n",
       "      <th>inicial</th>\n",
       "    </tr>\n",
       "  </thead>\n",
       "  <tbody>\n",
       "    <tr>\n",
       "      <th>0</th>\n",
       "      <td>arvore</td>\n",
       "      <td>0.749153</td>\n",
       "    </tr>\n",
       "    <tr>\n",
       "      <th>1</th>\n",
       "      <td>knn</td>\n",
       "      <td>0.715254</td>\n",
       "    </tr>\n",
       "    <tr>\n",
       "      <th>2</th>\n",
       "      <td>reg. log.</td>\n",
       "      <td>0.816949</td>\n",
       "    </tr>\n",
       "  </tbody>\n",
       "</table>\n",
       "</div>"
      ],
      "text/plain": [
       "     modelos   inicial\n",
       "0     arvore  0.749153\n",
       "1        knn  0.715254\n",
       "2  reg. log.  0.816949"
      ]
     },
     "execution_count": 34,
     "metadata": {},
     "output_type": "execute_result"
    }
   ],
   "source": [
    "# Criando primeiramente o DataFrame\n",
    "#as_df = pd.DataFrame({\n",
    "#    'modelos': ['arvore', 'knn', 'reg. log.'],\n",
    "#    'inicial': [as_ac,as_knn,as_rl]\n",
    "#})\n",
    "\n",
    "#as_df"
   ]
  },
  {
   "cell_type": "code",
   "execution_count": 235,
   "id": "bd51d7ce",
   "metadata": {},
   "outputs": [],
   "source": [
    "# Adicionando novas colunas no DafaFrame\n",
    "# as_df['escala'] = [as_ac,as_knn,as_rl]\n",
    "# as_df['pessoas'] = [as_ac,as_knn,as_rl]\n",
    "# as_df['colunas'] = [as_ac,as_knn,as_rl]"
   ]
  },
  {
   "cell_type": "code",
   "execution_count": 236,
   "id": "5697eb06",
   "metadata": {},
   "outputs": [
    {
     "data": {
      "text/html": [
       "<div>\n",
       "<style scoped>\n",
       "    .dataframe tbody tr th:only-of-type {\n",
       "        vertical-align: middle;\n",
       "    }\n",
       "\n",
       "    .dataframe tbody tr th {\n",
       "        vertical-align: top;\n",
       "    }\n",
       "\n",
       "    .dataframe thead th {\n",
       "        text-align: right;\n",
       "    }\n",
       "</style>\n",
       "<table border=\"1\" class=\"dataframe\">\n",
       "  <thead>\n",
       "    <tr style=\"text-align: right;\">\n",
       "      <th></th>\n",
       "      <th>modelos</th>\n",
       "      <th>inicial</th>\n",
       "      <th>escala</th>\n",
       "      <th>pessoas</th>\n",
       "      <th>colunas</th>\n",
       "    </tr>\n",
       "  </thead>\n",
       "  <tbody>\n",
       "    <tr>\n",
       "      <th>0</th>\n",
       "      <td>arvore</td>\n",
       "      <td>0.749153</td>\n",
       "      <td>0.749153</td>\n",
       "      <td>0.735593</td>\n",
       "      <td>0.762712</td>\n",
       "    </tr>\n",
       "    <tr>\n",
       "      <th>1</th>\n",
       "      <td>knn</td>\n",
       "      <td>0.715254</td>\n",
       "      <td>0.800000</td>\n",
       "      <td>0.786441</td>\n",
       "      <td>0.786441</td>\n",
       "    </tr>\n",
       "    <tr>\n",
       "      <th>2</th>\n",
       "      <td>reg. log.</td>\n",
       "      <td>0.816949</td>\n",
       "      <td>0.816949</td>\n",
       "      <td>0.806780</td>\n",
       "      <td>0.810169</td>\n",
       "    </tr>\n",
       "  </tbody>\n",
       "</table>\n",
       "</div>"
      ],
      "text/plain": [
       "     modelos   inicial    escala   pessoas   colunas\n",
       "0     arvore  0.749153  0.749153  0.735593  0.762712\n",
       "1        knn  0.715254  0.800000  0.786441  0.786441\n",
       "2  reg. log.  0.816949  0.816949  0.806780  0.810169"
      ]
     },
     "execution_count": 236,
     "metadata": {},
     "output_type": "execute_result"
    }
   ],
   "source": [
    "# Visualizando\n",
    "as_df"
   ]
  },
  {
   "cell_type": "markdown",
   "id": "86e8e994",
   "metadata": {},
   "source": [
    "- Avaliando a **matriz de confusão**"
   ]
  },
  {
   "cell_type": "code",
   "execution_count": 237,
   "id": "d8265dc0",
   "metadata": {},
   "outputs": [],
   "source": [
    "# Importando\n",
    "from sklearn.metrics import confusion_matrix"
   ]
  },
  {
   "cell_type": "code",
   "execution_count": 238,
   "id": "9f7278ae",
   "metadata": {},
   "outputs": [
    {
     "data": {
      "text/plain": [
       "array([[138,  37],\n",
       "       [ 37,  83]], dtype=int64)"
      ]
     },
     "execution_count": 238,
     "metadata": {},
     "output_type": "execute_result"
    }
   ],
   "source": [
    "# Para a árvore\n",
    "confusion_matrix(y_val, y_pred_ac)"
   ]
  },
  {
   "cell_type": "code",
   "execution_count": 239,
   "id": "b4e9c36a",
   "metadata": {},
   "outputs": [
    {
     "data": {
      "text/plain": [
       "array([[152,  23],\n",
       "       [ 36,  84]], dtype=int64)"
      ]
     },
     "execution_count": 239,
     "metadata": {},
     "output_type": "execute_result"
    }
   ],
   "source": [
    "# Para o knn\n",
    "confusion_matrix(y_val, y_pred_knn)"
   ]
  },
  {
   "cell_type": "code",
   "execution_count": 240,
   "id": "4edc78f2",
   "metadata": {},
   "outputs": [
    {
     "data": {
      "text/plain": [
       "array([[153,  22],\n",
       "       [ 32,  88]], dtype=int64)"
      ]
     },
     "execution_count": 240,
     "metadata": {},
     "output_type": "execute_result"
    }
   ],
   "source": [
    "# Para a regressão logística\n",
    "confusion_matrix(y_val, y_pred_rl)"
   ]
  },
  {
   "cell_type": "markdown",
   "id": "7e482ceb",
   "metadata": {},
   "source": [
    "- Sempre que quisermos, podemos **[voltar](#ajustes)** e continuar fazendo os ajustes necessários na nossa base"
   ]
  },
  {
   "cell_type": "markdown",
   "id": "4656b058",
   "metadata": {},
   "source": [
    "### Fazendo a previsão para os dados de teste\n",
    "- Vamos usar o modelo com melhor precisão para fazer o predict na base de teste"
   ]
  },
  {
   "cell_type": "code",
   "execution_count": 241,
   "id": "d316d0f3",
   "metadata": {},
   "outputs": [
    {
     "data": {
      "text/html": [
       "<div>\n",
       "<style scoped>\n",
       "    .dataframe tbody tr th:only-of-type {\n",
       "        vertical-align: middle;\n",
       "    }\n",
       "\n",
       "    .dataframe tbody tr th {\n",
       "        vertical-align: top;\n",
       "    }\n",
       "\n",
       "    .dataframe thead th {\n",
       "        text-align: right;\n",
       "    }\n",
       "</style>\n",
       "<table border=\"1\" class=\"dataframe\">\n",
       "  <thead>\n",
       "    <tr style=\"text-align: right;\">\n",
       "      <th></th>\n",
       "      <th>Pclass</th>\n",
       "      <th>Age</th>\n",
       "      <th>SibSp</th>\n",
       "      <th>Parch</th>\n",
       "      <th>Fare</th>\n",
       "      <th>MaleCheck</th>\n",
       "      <th>Embarked_C</th>\n",
       "      <th>Embarked_Q</th>\n",
       "      <th>Embarked_S</th>\n",
       "    </tr>\n",
       "  </thead>\n",
       "  <tbody>\n",
       "    <tr>\n",
       "      <th>6</th>\n",
       "      <td>1</td>\n",
       "      <td>1.869299</td>\n",
       "      <td>0</td>\n",
       "      <td>0</td>\n",
       "      <td>1.620136</td>\n",
       "      <td>1</td>\n",
       "      <td>0</td>\n",
       "      <td>0</td>\n",
       "      <td>1</td>\n",
       "    </tr>\n",
       "    <tr>\n",
       "      <th>718</th>\n",
       "      <td>3</td>\n",
       "      <td>0.000000</td>\n",
       "      <td>0</td>\n",
       "      <td>0</td>\n",
       "      <td>0.045293</td>\n",
       "      <td>1</td>\n",
       "      <td>0</td>\n",
       "      <td>1</td>\n",
       "      <td>0</td>\n",
       "    </tr>\n",
       "    <tr>\n",
       "      <th>685</th>\n",
       "      <td>2</td>\n",
       "      <td>-0.361471</td>\n",
       "      <td>1</td>\n",
       "      <td>2</td>\n",
       "      <td>1.174771</td>\n",
       "      <td>1</td>\n",
       "      <td>1</td>\n",
       "      <td>0</td>\n",
       "      <td>0</td>\n",
       "    </tr>\n",
       "  </tbody>\n",
       "</table>\n",
       "</div>"
      ],
      "text/plain": [
       "     Pclass       Age  SibSp  Parch      Fare  MaleCheck  Embarked_C  \\\n",
       "6         1  1.869299      0      0  1.620136          1           0   \n",
       "718       3  0.000000      0      0  0.045293          1           0   \n",
       "685       2 -0.361471      1      2  1.174771          1           1   \n",
       "\n",
       "     Embarked_Q  Embarked_S  \n",
       "6             0           1  \n",
       "718           1           0  \n",
       "685           0           0  "
      ]
     },
     "execution_count": 241,
     "metadata": {},
     "output_type": "execute_result"
    }
   ],
   "source": [
    "# Visualizando o X_train\n",
    "X_train.head(3)"
   ]
  },
  {
   "cell_type": "code",
   "execution_count": 242,
   "id": "b97efd5c",
   "metadata": {},
   "outputs": [
    {
     "data": {
      "text/html": [
       "<div>\n",
       "<style scoped>\n",
       "    .dataframe tbody tr th:only-of-type {\n",
       "        vertical-align: middle;\n",
       "    }\n",
       "\n",
       "    .dataframe tbody tr th {\n",
       "        vertical-align: top;\n",
       "    }\n",
       "\n",
       "    .dataframe thead th {\n",
       "        text-align: right;\n",
       "    }\n",
       "</style>\n",
       "<table border=\"1\" class=\"dataframe\">\n",
       "  <thead>\n",
       "    <tr style=\"text-align: right;\">\n",
       "      <th></th>\n",
       "      <th>PassengerId</th>\n",
       "      <th>Pclass</th>\n",
       "      <th>Age</th>\n",
       "      <th>SibSp</th>\n",
       "      <th>Parch</th>\n",
       "      <th>Fare</th>\n",
       "      <th>MaleCheck</th>\n",
       "      <th>Embarked_C</th>\n",
       "      <th>Embarked_Q</th>\n",
       "      <th>Embarked_S</th>\n",
       "    </tr>\n",
       "  </thead>\n",
       "  <tbody>\n",
       "    <tr>\n",
       "      <th>0</th>\n",
       "      <td>892</td>\n",
       "      <td>3</td>\n",
       "      <td>0.331562</td>\n",
       "      <td>0</td>\n",
       "      <td>0</td>\n",
       "      <td>-0.280670</td>\n",
       "      <td>1</td>\n",
       "      <td>0</td>\n",
       "      <td>1</td>\n",
       "      <td>0</td>\n",
       "    </tr>\n",
       "    <tr>\n",
       "      <th>1</th>\n",
       "      <td>893</td>\n",
       "      <td>3</td>\n",
       "      <td>1.311954</td>\n",
       "      <td>1</td>\n",
       "      <td>0</td>\n",
       "      <td>-0.315800</td>\n",
       "      <td>0</td>\n",
       "      <td>0</td>\n",
       "      <td>0</td>\n",
       "      <td>1</td>\n",
       "    </tr>\n",
       "    <tr>\n",
       "      <th>2</th>\n",
       "      <td>894</td>\n",
       "      <td>2</td>\n",
       "      <td>2.488424</td>\n",
       "      <td>0</td>\n",
       "      <td>0</td>\n",
       "      <td>-0.201943</td>\n",
       "      <td>1</td>\n",
       "      <td>0</td>\n",
       "      <td>1</td>\n",
       "      <td>0</td>\n",
       "    </tr>\n",
       "  </tbody>\n",
       "</table>\n",
       "</div>"
      ],
      "text/plain": [
       "   PassengerId  Pclass       Age  SibSp  Parch      Fare  MaleCheck  \\\n",
       "0          892       3  0.331562      0      0 -0.280670          1   \n",
       "1          893       3  1.311954      1      0 -0.315800          0   \n",
       "2          894       2  2.488424      0      0 -0.201943          1   \n",
       "\n",
       "   Embarked_C  Embarked_Q  Embarked_S  \n",
       "0           0           1           0  \n",
       "1           0           0           1  \n",
       "2           0           1           0  "
      ]
     },
     "execution_count": 242,
     "metadata": {},
     "output_type": "execute_result"
    }
   ],
   "source": [
    "# Visualizando a base de teste\n",
    "teste.head(3)"
   ]
  },
  {
   "cell_type": "code",
   "execution_count": 243,
   "id": "e34f5ff4",
   "metadata": {},
   "outputs": [],
   "source": [
    "# Para a base de teste ser igual a base de treino, precisamos eliminar a coluna de id\n",
    "X_teste = teste.drop('PassengerId',axis=1)"
   ]
  },
  {
   "cell_type": "code",
   "execution_count": 244,
   "id": "f0497a13",
   "metadata": {},
   "outputs": [],
   "source": [
    "# Utilizando a regressão logística na base de teste\n",
    "y_pred = clf_rl.predict(X_teste)"
   ]
  },
  {
   "cell_type": "code",
   "execution_count": 245,
   "id": "08fffa82",
   "metadata": {},
   "outputs": [],
   "source": [
    "# Criando uma nova coluna com a previsão na base de teste\n",
    "teste['Survived'] = y_pred"
   ]
  },
  {
   "cell_type": "code",
   "execution_count": 246,
   "id": "8b1fb599",
   "metadata": {},
   "outputs": [],
   "source": [
    "# Selecionando apenas a coluna de Id e Survived para fazer o envio\n",
    "base_envio = teste[['PassengerId','Survived']]"
   ]
  },
  {
   "cell_type": "code",
   "execution_count": 248,
   "id": "2965c544",
   "metadata": {},
   "outputs": [],
   "source": [
    "# Exportando para um csv\n",
    "base_envio.to_csv('resultados_escala.csv',index=False)"
   ]
  }
 ],
 "metadata": {
  "kernelspec": {
   "display_name": "Python 3 (ipykernel)",
   "language": "python",
   "name": "python3"
  },
  "language_info": {
   "codemirror_mode": {
    "name": "ipython",
    "version": 3
   },
   "file_extension": ".py",
   "mimetype": "text/x-python",
   "name": "python",
   "nbconvert_exporter": "python",
   "pygments_lexer": "ipython3",
   "version": "3.10.9"
  }
 },
 "nbformat": 4,
 "nbformat_minor": 5
}
